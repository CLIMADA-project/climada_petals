{
 "cells": [
  {
   "attachments": {},
   "cell_type": "markdown",
   "id": "76e20689",
   "metadata": {},
   "source": [
    "## Copernicus Seasonal Forecast Module\n",
    "\n",
    "This module is developed to manage seasonal forecast data from the [Copernicus Climate Data Store](https://cds.climate.copernicus.eu) (CDS) for the [U-CLIMADAPT project](https://www.copernicus-user-uptake.eu/user-uptake/details/responding-to-the-impact-of-climate-change-u-climadapt-488). \n",
    "It offers comprehensive tools for downloading, processing, computing climate indices, and generating hazard objects based on seasonal forecast datasets, particularly [Seasonal forecast daily and subdaily data on single levels](https://cds.climate.copernicus.eu/datasets/seasonal-original-single-levels?tab=overview). \n",
    "The module is tailored to integrate seamlessly with the [CLIMADA](https://climada.ethz.ch/)(CLIMate ADAptation) platform, supporting climate risk assessment and the development of effective adaptation strategies.\n",
    "\n",
    "Features:\n",
    "- Download seasonal forecast data from CDS\n",
    "- Process raw data into climate indices\n",
    "- Calculate various heat-related indices (e.g., Maximum Temperature, Tropical Nights)\n",
    "- Create CLIMADA Hazard objects for further risk analysis\n",
    "- Visualize hazard data\n",
    "\n",
    "Prerequisites:\n",
    "\n",
    "1. CDS account and API key:\n",
    "   Register at https://cds-beta.climate.copernicus.eu\n",
    "\n",
    "2. CDS API client installation:\n",
    "   pip install cdsapi\n",
    "\n",
    "3. CDS API configuration:\n",
    "   Create a .cdsapirc file in your home directory with your API key and URL.\n",
    "   For instructions, visit: https://cds-beta.climate.copernicus.eu/how-to-api#install-the-cds-api-client\n",
    "\n",
    "4. Dataset Terms and Conditions: After selecting the dataset to download, make \n",
    "   sure to accept the terms and conditions on the corresponding dataset webpage in the CDS portal before running this notebook. Here, https://cds.climate.copernicus.eu/datasets/seasonal-original-single-levels?tab=download.\n",
    "\n",
    "Usage:\n",
    "This module is typically imported and used within larger scripts or applications for climate data processing\n",
    "and risk assessment. See individual function docstrings for specific usage instructions.\n",
    "\n",
    "Note:\n",
    "Ensure you have the necessary permissions and comply with the CDS data usage policies when using this module. You can view the terms and conditions at https://cds.climate.copernicus.eu/datasets/seasonal-original-single-levels?tab=download. You can find them at the bottom of the download page."
   ]
  },
  {
   "cell_type": "code",
   "execution_count": null,
   "id": "170187ce",
   "metadata": {},
   "outputs": [],
   "source": [
    "# Import packages\n",
    "\n",
    "import warnings\n",
    "import datetime as dt\n",
    "warnings.filterwarnings('ignore')\n",
    "from pathlib import Path\n",
    "\n",
    "from climada.hazard import Hazard\n",
    "from climada_petals.hazard.copernicus_forecast.create_seasonal_forecast_hazard import SeasonalForecast\n",
    "\n",
    "from climada.util.constants import SYSTEM_DIR\n",
    "\n",
    "# Initialize handler\n",
    "handler = SeasonalForecast()\n"
   ]
  },
  {
   "attachments": {},
   "cell_type": "markdown",
   "id": "50ea48c5-b435-47e0-a178-a1d08742fcad",
   "metadata": {},
   "source": [
    "### Set up module parameters\n",
    "\n",
    "To configure the module for working with Copernicus forecast data and converting it into a hazard object for CLIMADA, you will need to define several essential parameters. These settings are crucial as they specify the type of data to be retrieved, the format, the forecast period, and the geographical area of interest. These parameters influence how the forecast data is processed and transformed into a hazard object.\n",
    "\n",
    "Below, we outline these parameters and use an example for the \"Maximum Temperature\" index to demonstrate the seasonal forecast functionality.\n",
    "\n",
    "To learn more about what these parameters entail and their significance, please refer to the [documentation on the CDS webpage](https://cds-beta.climate.copernicus.eu/datasets/seasonal-original-single-levels?tab=overview).\n",
    "\n",
    "#### Overview of parameters\n",
    "\n",
    "**index_metric**: Defines the type of index to be calculated. The current options available are 'HIA' (Heat Index Adjusted), 'HIS' (Heat Index Simplified), 'Tmean' (Mean Temperature), 'Tmin' (Minimum Temperature), 'Tmax' (Maximum Temperature), 'HW' (Heat Wave), 'TR' (Tropical Nights), 'TX30' (Hot Days), 'HUM' (Humidex), 'RH' (Relative Humidity), 'AT' (Apparent Temperature), and 'WBGT' (Wet Bulb Globe Temperature (Simple)).\n",
    "\n",
    "**format** : Specifies the format of the data to be downloaded, \"grib\" or \"netcdf\". Noted that GRIB files are more complex to process compared to NetCDF.\n",
    "\n",
    "**originating_centre**: Identifies the source of the data. A standard choice is \"dwd\" (German Weather Service), one of eight providers including ECMWF, UK Met Office, Météo France, CMCC, NCEP, JMA, and ECCC.\n",
    "\n",
    "**system**: Refers to a specific model or configuration used for forecasts. In this script, the default value is \"21,\" which corresponds to the GCSF (German Climate Forecast System) [version 2.1](https://agupubs.onlinelibrary.wiley.com/doi/full/10.1029/2020MS002101). More details can be found in the [CDS documentation](https://cds-beta.climate.copernicus.eu/datasets/seasonal-original-single-levels?tab=documentation).\n",
    "\n",
    "**max_lead_month**: Defines the maximum lead time in months for forecast data. For this example we set it to 4 months, meaning forecasts up to four months into the future. The maximum available is 7 months.\n",
    "\n",
    "**year_list**: A list of years for which data should be downloaded and processed.\n",
    "\n",
    "**month_list**: Starting months for seasonal forecast data. [6, 7] means data starts from June and July.\n",
    "\n",
    "**area_selection**: This determines the geographical area for which the data should be downloaded. It can be set to\n",
    "- \"global\" (gobal data is downloaded)\n",
    "- a list of ISO alpha-3 codes for different countries, e.g., [\"DEU\", \"CHE\"] for Germany and Switzerland. See this [wikipedia page](https://en.wikipedia.org/wiki/ISO_3166-1_alpha-3) for the country codes. Note that the **joint region** will be downloaded and processed, i.e., handling data for [\"DEU\", \"CHE\"] and then for [\"CHE\"] will download and generate two sets of data.\n",
    "- a list of four numbers corresponding to the geographical bounds (in degrees; EPSG:4326), specified as [north, west, south, east]. \n",
    "\n",
    "**overwrite**: Boolean flag that, when set to True, forces the system to redownload and reprocess existing files.\n"
   ]
  },
  {
   "cell_type": "code",
   "execution_count": null,
   "id": "a2acc712-baa8-45d0-ad98-85814ad13f32",
   "metadata": {},
   "outputs": [],
   "source": [
    "# We define above parameters for an example \n",
    "index_metric = \"RH\" # maximum temperature\n",
    "format = \"grib\"  # 'grib' or 'netcdf'\n",
    "originating_centre =  \"dwd\"\n",
    "system =  \"21\" \n",
    "max_lead_month = 4\n",
    "year_list = [2017] \n",
    "month_list = [6]\n",
    "area_selection = [\"DEU\", \"CHE\"] \n",
    "overwrite = False\n",
    "\n",
    "# Details on the characteristics of the selected index and the input data used\n",
    "handler.explain_index(index_metric)"
   ]
  },
  {
   "attachments": {},
   "cell_type": "markdown",
   "id": "ee00c8a7-fcb7-4a86-99ed-4aee29c7f08b",
   "metadata": {},
   "source": [
    "### Download and Process Data\n",
    "\n",
    "The `handler.download_and_process_data` method in CLIMADA efficiently retrieves and organizes Copernicus forecast data. It checks for existing files to avoid redundant downloads, stores data by format (grib or netCDF), year, month. Then the files are processed for further analysis, such as calculating climate indices or creating hazard objects within CLIMADA. Here are the aspects of this process:\n",
    "\n",
    "- **Data Download**: The method downloads the forecast data for the selected years, months, and regions. The data is retrieved in **grib** or **netCDF** formats, which are commonly used for storing meteorological data. If the required files already exist in the specified directories, the system will skip downloading them, as indicated by the log messages such as:  \n",
    "  *\"Corresponding grib file SYSTEM_DIR/copernicus_forecast/input_data/dwd/grib/2022/06/t2m_area-16_63_47_4_202206.grib already exists.\"*\n",
    "\n",
    "- **Data Processing**: After downloading (or confirming the existence of) the files, the system converts them into daily **netCDF** files. This format suseful for working with multi-dimensional climate data. The log messages confirm the existence or creation of these files, for example:  \n",
    "  *\"Daily file SYSTEM_DIR/copernicus_forecast/input_data/netcdf/daily/dwd/2022/06/t2m_area-16_63_47_4_202206.nc already exists.\"*\n",
    "\n",
    "- **Geographic and Temporal Focus**: The files are generated for a specific time frame (e.g., June and July 2022) and a predefined geographic region, as specified by the parameters such as `area_selection`, `month_list`, and `year_list`. This ensures that only the selected data for your analysis is downloaded and processed.\n",
    "\n",
    "- **Data Completeness**: Messages like \"already exists\" ensure that you do not redundantly download or process data, saving time and computing resources. However, if the data files are missing, they will be downloaded and processed as necessary."
   ]
  },
  {
   "cell_type": "code",
   "execution_count": null,
   "id": "69229b74-d49b-4696-ac56-2530950548fb",
   "metadata": {},
   "outputs": [],
   "source": [
    "# Download and process data\n",
    "handler.download_and_process_data(index_metric, year_list, month_list, area_selection, overwrite, format, originating_centre, system, max_lead_month)"
   ]
  },
  {
   "attachments": {},
   "cell_type": "markdown",
   "id": "c7142655-26bd-41a9-8a7a-1f2a36e57fc4",
   "metadata": {},
   "source": [
    "### Calculate Climate Indices\n",
    "\n",
    "When you use the `handler.calculate_index` method in CLIMADA to compute specific climate indices (such as Maximum Temperature), the generated output is saved and organized in a structured format for further analysis. Here some details:\n",
    "\n",
    "- **Index Calculation**: The method processes seasonal forecast data to compute the selected index for the chosen years, months, and regions. This index represents a specific climate condition, such as the number of Maximum Temperature (\"Tmax\") over the forecast period, as defined in the parameters.\n",
    "\n",
    "- **Data Storage**: The calculated index data is saved in **netCDF** format. These files are automatically saved in directories specific to the index and time period. The file paths are printed below the processing steps. For example, the computed index values are stored in:  \n",
    "  *\"SYSTEM_DIR/copernicus_forecast/indices/dwd/Tmax/2022/06/Tmax_area4_56_45_16_202206.nc\"*\n",
    "\n",
    "  Similarly, the statistics of the index (e.g., mean, max, min, std) are saved in:  \n",
    "  *\"SYSTEM_DIR/copernicus_forecast/indices/dwd/Tmax/2022/06/stats/stats_Tmax_area4_56_45_16_202206.nc\"*.  \n",
    "  These files ensure that both the raw indices and their statistical summaries are available for detailed analysis.\n",
    "  \n",
    "  Each file contains data for a specific month and geographic region, as defined in the parameters. This allows you to analyze how the selected climate index varies over time and across different locations.\n",
    "\n",
    "- **Completeness of Data Processing**: Messages 'Index Tmax successfully calculated and saved for...' confirm the successful calculation and storage of the index, ensuring that all requested data has been processed and saved correctly.\n"
   ]
  },
  {
   "cell_type": "code",
   "execution_count": null,
   "id": "8d703f84-0749-4003-9fef-6f0ffaccb8d8",
   "metadata": {},
   "outputs": [],
   "source": [
    "# Calculate index\n",
    "handler.calculate_index(index_metric, year_list, month_list, area_selection, overwrite, originating_centre)"
   ]
  },
  {
   "attachments": {},
   "cell_type": "markdown",
   "id": "3166a41f-874d-4e22-aad4-7be71d08e456",
   "metadata": {},
   "source": [
    "### Calculate a Hazard Object\n",
    "\n",
    "When you use the `handler.process_and_save_hazards` method in CLIMADA to convert processed index from Copernicus forecast data into a hazard object:\n",
    "\n",
    "- **Hazard Object Creation**: The method processes seasonal forecast data for specified years and months, converting these into hazard objects. These objects encapsulate potential risks associated with specific weather events or conditions, such as Maximum Temperature ('Tmax') indicated in the parameters, over the forecast period.\n",
    "\n",
    "- **Data Storage**: The hazard data for each ensemble member of the forecast is saved as HDF5 files. These files are automatically stored in specific directories corresponding to each month and type of hazard. The file paths are printed below the processing steps. For example, *\"/SYSTEM_DIR/copernicus_forecast/hazard/dwd/Tmax/2022/06/hazard_Tmax_area4_56_45_16_202207.hdf5\"*\n",
    " HDF5 is a versatile data model that efficiently stores large volumes of complex data.\n",
    " \n",
    " Each file is specific to a particular month and hazard scenario ('Tmax' in this case) and covers all ensemble members for that forecast period, aiding in detailed risk analysis.\n",
    "\n",
    "- **Completeness of Data Processing**: Messages like 'Completed processing for 2022-07. Data saved in...' confirm the successful processing and storage of the hazard data for that period, ensuring that all requested data has been properly handled and stored.\n",
    "\n",
    "#### Visualizing the Calculated Hazard Object\n",
    "\n",
    "Once the hazard object has been successfully calculated, the last element created is printed for visualization. This is important for several reasons:\n",
    "\n",
    "- **Initial Data Inspection**: The visualization allows you to view a slice of the forecast data, providing a quick check of the results. This initial glimpse helps you verify that the data processing was successful and provides insights into the distribution of the hazard (in this case, Maximum Temperature) across the area of interest.\n",
    "\n",
    "- **Geographic Accuracy**: The map helps you verify if the correct geographic region was processed and plotted. This is particularly useful as it allows immediate feedback on whether the user-defined boundaries or selected areas (e.g., Germany and Switzerland) were captured correctly.\n",
    "\n",
    "- **Data Quality Check**: Visualizing the output also serves as a preliminary quality check, allowing you to detect any unexpected results or anomalies in the data. For instance, the color bar indicating the \"Intensity (days)\" gives an indication of how the hazard index is distributed across the mapped area.\n",
    "\n",
    "- **Quick Workflow Testing**: This step is essential for testing the entire workflow, ensuring that the process is working as expected from data download, processing, and hazard object creation to visualization.\n",
    "\n",
    "This output provides a structured dataset ready for further analysis within the CLIMADA framework, allowing for the evaluation of potential impacts and the planning of mitigation strategies. \n"
   ]
  },
  {
   "cell_type": "code",
   "execution_count": null,
   "id": "8d0d6332-99f8-49f1-b925-26758005c152",
   "metadata": {},
   "outputs": [],
   "source": [
    "handler.save_index_to_hazard(index_metric, year_list, month_list, area_selection, overwrite, originating_centre)"
   ]
  },
  {
   "attachments": {},
   "cell_type": "markdown",
   "id": "d9280e7d",
   "metadata": {},
   "source": [
    "## Example for reading and plotting hazard\n",
    "\n",
    "The saved hazard file can then be read and processed by standard CLIMADA methods. For instance, below, we load the hazard for the last month and plot the intensity per grid point maximized over all forecast ensemble members."
   ]
  },
  {
   "cell_type": "code",
   "execution_count": null,
   "id": "8275a52a",
   "metadata": {},
   "outputs": [],
   "source": [
    "# Choose the example hazard\n",
    "year = year_list[-1]  # Retrieve the last year in the list for the example\n",
    "month = month_list[-1]  # Retrieve the last month in the list for the example\n",
    "ordinal_date = dt.datetime.fromisoformat(f\"{year}-{month:02d}-01\").toordinal()  # Convert date to ordinal format\n",
    "bounds = handler._get_bounds_for_area_selection(area_selection)  # Get bounds for the area selection\n",
    "area_str = f\"area{int(bounds[1])}_{int(bounds[0])}_{int(bounds[2])}_{int(bounds[3])}\"\n",
    "\n",
    "# Define the correct hazard directory and path\n",
    "hazard_directory = f\"{handler.data_out}/hazard/{originating_centre}/{index_metric}/{year}/{month:02d}\"  \n",
    "hazard_path = f\"{hazard_directory}/hazard_{index_metric}_{originating_centre}_{area_str}_{year}{month:02d}.hdf5\" \n",
    "\n",
    "# Load the hazard and plot intensity for the selected grid, maximized over ensemble\n",
    "haz = Hazard.from_hdf5(hazard_path)  # Load the hazard object from the defined path\n",
    "haz.select(date=[ordinal_date, ordinal_date]).plot_intensity(event=0, smooth=False)  # Plot intensity for the selected event\n"
   ]
  }
 ],
 "metadata": {
  "kernelspec": {
   "display_name": "climada_env",
   "language": "python",
   "name": "python3"
  },
  "language_info": {
   "codemirror_mode": {
    "name": "ipython",
    "version": 3
   },
   "file_extension": ".py",
   "mimetype": "text/x-python",
   "name": "python",
   "nbconvert_exporter": "python",
   "pygments_lexer": "ipython3",
   "version": "3.9.18"
  }
 },
 "nbformat": 4,
 "nbformat_minor": 5
}
