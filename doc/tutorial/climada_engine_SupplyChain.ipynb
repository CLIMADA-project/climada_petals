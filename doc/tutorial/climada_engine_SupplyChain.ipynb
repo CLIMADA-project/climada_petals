{
 "cells": [
  {
   "cell_type": "markdown",
   "id": "3ba46e11",
   "metadata": {},
   "source": [
    "# `supplychain` module"
   ]
  },
  {
   "cell_type": "markdown",
   "id": "6f5dd78e",
   "metadata": {},
   "source": [
    "## Introduction"
   ]
  },
  {
   "cell_type": "markdown",
   "id": "88e7bac1",
   "metadata": {},
   "source": [
    "This tutorial shows how to use the `supplychain` module of CLIMADA. This class allows assessing indirect economic impacts via Input-Output (IO) based modeling.\n",
    "\n",
    "This tutorial assumes you are familiar with direct impact computation with CLIMADA with the [`Exposures`](https://climada-python.readthedocs.io/en/stable/tutorial/climada_entity_Exposures.html), [`Hazard`](https://climada-python.readthedocs.io/en/stable/tutorial/climada_hazard_Hazard.html) and [`Impact`](https://climada-python.readthedocs.io/en/stable/tutorial/climada_engine_Impact.html) classes. Likewise, this tutorial assumes you are familiar with IO based modeling[^ft1].\n",
    "\n",
    "To avoid an unnecessarily dense tutorial we cover the basic functionality, but a lot of methods and functions presented here offer some advanced uses, for which you can find documentation via the API reference and their docstring.\n",
    "\n",
    "[^ft1]: We recommend the following book: Miller, R. E., & Blair, P. D. (2009). Input-Output Analysis: Foundations and Extensions (2nd ed.). Cambridge: Cambridge University Press."
   ]
  },
  {
   "cell_type": "markdown",
   "id": "c7c0ebcb",
   "metadata": {},
   "source": [
    "## Goal of this tutorial"
   ]
  },
  {
   "cell_type": "markdown",
   "id": "a91229ad",
   "metadata": {
    "jp-MarkdownHeadingCollapsed": true
   },
   "source": [
    "The goal of this tutorial is to present **indirect** impact computations for the different available approaches, by presenting how to set up a global supply chain risk analysis for tropical cyclones hitting japan."
   ]
  },
  {
   "cell_type": "markdown",
   "id": "6bacfdc3",
   "metadata": {},
   "source": [
    "## What approaches are available?\n",
    "\n",
    "Here, we **briefly** describe the available approaches. We **strongly** advise you to find more detailed documentation online or in the literature if you are not familiar with these concepts."
   ]
  },
  {
   "cell_type": "markdown",
   "id": "63b68c5e",
   "metadata": {},
   "source": [
    "### Leontief"
   ]
  },
  {
   "cell_type": "markdown",
   "id": "72b91b12",
   "metadata": {
    "jp-MarkdownHeadingCollapsed": true
   },
   "source": [
    "The Leontief approach to conducting an indirect impact assessment involves using a Multi-Regional Input Output Table (MRIOT) to quantify the ripple effects of a **change in final demand** throughout the economy. The key steps are:\n",
    "\n",
    "1. Obtain the Leontief inverse matrix from the intermediate demand matrix of the MRIOT (or transaction matrix), which represents the total (direct and indirect) requirements of each sector per unit of final demand. This captures the interdependencies between different sectors.\n",
    "2. Multiply the Leontief inverse matrix by the change in final demand (the \"exogenous variable\") to calculate the indirect impacts on production in each sector.\n",
    "3. The indirect effects analysis assesses the secondary needs arising from interactions among different sectors, considering the infinite iterations within the production system.\n",
    "4. This allows for a comprehensive assessment of the indirect impacts beyond the first-order, direct impacts of the change in final demand."
   ]
  },
  {
   "cell_type": "markdown",
   "id": "3bc6ea4a",
   "metadata": {},
   "source": [
    "### Ghosh"
   ]
  },
  {
   "cell_type": "markdown",
   "id": "b416fa87",
   "metadata": {
    "jp-MarkdownHeadingCollapsed": true
   },
   "source": [
    "The Ghosh approach to conducting an indirect impact assessment is similar to the Leontief approach, but with some key differences:\n",
    "\n",
    "1. The Ghosh model focuses on the supply-side of the economy, rather than the demand-side as in the Leontief model. It analyzes the impacts of changes in primary inputs (most often the value-added, which is what we use in the module) on the output of each sector.\n",
    "2. The Ghosh inverse matrix represents the total (direct and indirect) output requirements per unit of primary input, capturing the forward linkages in the production system.\n",
    "3. To assess the indirect impacts, the Ghosh inverse matrix is multiplied by the change in primary inputs (the \"exogenous variable\") to calculate the resulting changes in sectoral outputs.\n",
    "\n",
    "Note however, that the Ghosh model has been criticized for its lack of economic plausibility, as it assumes that consumption is unresponsive to changes in income. Which is considered an unrealistic assumption."
   ]
  },
  {
   "cell_type": "markdown",
   "id": "ebaf734e",
   "metadata": {},
   "source": [
    "### ARIO (with the `boario` package)"
   ]
  },
  {
   "cell_type": "markdown",
   "id": "eb4d44cc",
   "metadata": {
    "jp-MarkdownHeadingCollapsed": true
   },
   "source": [
    "ARIO stands for Adaptive Regional Input-Output. It is an hybrid input-output agent-based dynamic economic model, designed to compute indirect costs from economic shocks.\n",
    "Its first version dates back to 2008 and has originally been developed to assess the indirect costs of natural disasters [[Hallegatte 2008](https://doi.org/10.1111/j.1539-6924.2008.01046.x), [Hallegatte 2013](https://doi.org/10.1111/risa.12090)].\n",
    "\n",
    "CLIMADA employs the [`boario`](https://spjuhel.github.io/BoARIO/boario-what-is.html) python package which implements the ARIO model.\n",
    "\n",
    "Here are its keys elements:\n",
    "\n",
    "- The economy is modelled as a set of economic sectors and a set of regions (the initial equilibrium state of the economy is built based on a MRIOT).\n",
    "- Each economic sector produces its generic product and draws inputs from an inventory.\n",
    "- Each sector answers to a total demand consisting of a final demand (household consumption, public spending and private investments) of all regions (local demand and exports) and intermediate demand (through input inventory resupply).\n",
    "\n",
    "The model then describes how exogenous shocks propagate across the economy at each time step.\n",
    "\n"
   ]
  },
  {
   "cell_type": "markdown",
   "id": "66599a90",
   "metadata": {},
   "source": [
    "## Tutorial"
   ]
  },
  {
   "cell_type": "code",
   "execution_count": 72,
   "id": "51d33332",
   "metadata": {},
   "outputs": [],
   "source": [
    "import numpy as np\n",
    "import pandas as pd\n",
    "\n",
    "from climada.engine.impact_calc import ImpactCalc\n",
    "from climada.entity import ImpactFuncSet, ImpfTropCyclone\n",
    "from climada.util.api_client import Client\n",
    "from climada_petals.engine.supplychain import DirectShocksSet, StaticIOModel, BoARIOModel, get_mriot\n",
    "import datetime as dt\n",
    "\n",
    "client = Client()"
   ]
  },
  {
   "cell_type": "markdown",
   "id": "880b6d32",
   "metadata": {},
   "source": [
    "### Calculate direct economic impacts"
   ]
  },
  {
   "cell_type": "markdown",
   "id": "7fe4f726",
   "metadata": {},
   "source": [
    "The first step is to conduct a direct impact analysis. To do so, we need to define an exposure, a hazard and a vulnerability. In this tutorial we will load the LitPop exposure for Japan from the CLIMADA Data API."
   ]
  },
  {
   "cell_type": "code",
   "execution_count": 73,
   "id": "3ae1ef20",
   "metadata": {},
   "outputs": [
    {
     "name": "stdout",
     "output_type": "stream",
     "text": [
      "2025-05-20 15:01:05,919 - climada.entity.exposures.base - INFO - Reading /home/sjuhel/climada/data/exposures/litpop/LitPop_150arcsec_JPN/v3/LitPop_150arcsec_JPN.hdf5\n"
     ]
    }
   ],
   "source": [
    "exp_jpn = client.get_litpop('JPN')"
   ]
  },
  {
   "cell_type": "markdown",
   "id": "1f216d27",
   "metadata": {},
   "source": [
    "Then, we load tropical cyclones that hit the Japan in 2019 from the CLIMADA Data API."
   ]
  },
  {
   "cell_type": "code",
   "execution_count": 74,
   "id": "b2aa2763",
   "metadata": {},
   "outputs": [
    {
     "name": "stdout",
     "output_type": "stream",
     "text": [
      "2025-05-20 15:01:11,170 - climada.hazard.io - INFO - Reading /home/sjuhel/climada/data/hazard/tropical_cyclone/tropical_cyclone_0synth_tracks_150arcsec_historical_JPN_1980_2020/v2/tropical_cyclone_0synth_tracks_150arcsec_historical_JPN_1980_2020.hdf5\n"
     ]
    }
   ],
   "source": [
    "tc_jpn = client.get_hazard('tropical_cyclone', properties={'country_iso3alpha':'JPN', 'event_type': 'observed'})\n",
    "\n",
    "target_year = 2019\n",
    "events_in_target_year = np.array([\n",
    "    tc_jpn.event_name[i] for i in range(len(tc_jpn.event_name)) if\n",
    "    dt.datetime.fromordinal(tc_jpn.date[i]).year == target_year\n",
    "    ])\n",
    "\n",
    "tc_jpn_target_year = tc_jpn.select(event_names = events_in_target_year)"
   ]
  },
  {
   "cell_type": "markdown",
   "id": "6ee697b8",
   "metadata": {},
   "source": [
    "Then we define vulnerability by loading impact functions for tropical cyclones:"
   ]
  },
  {
   "cell_type": "code",
   "execution_count": 75,
   "id": "28fb55bb",
   "metadata": {},
   "outputs": [],
   "source": [
    "# Define impact function\n",
    "impf_tc = ImpfTropCyclone.from_emanuel_usa()\n",
    "impf_set = ImpactFuncSet()\n",
    "impf_set.append(impf_tc)\n",
    "impf_set.check()"
   ]
  },
  {
   "cell_type": "markdown",
   "id": "46574454",
   "metadata": {},
   "source": [
    "And we finally calculate impacts."
   ]
  },
  {
   "cell_type": "code",
   "execution_count": 76,
   "id": "ced70cb1",
   "metadata": {},
   "outputs": [
    {
     "name": "stdout",
     "output_type": "stream",
     "text": [
      "2025-05-20 15:01:11,219 - climada.entity.exposures.base - INFO - No specific impact function column found for hazard TC. Using the anonymous 'impf_' column.\n",
      "2025-05-20 15:01:11,221 - climada.entity.exposures.base - INFO - Matching 21999 exposures with 21962 centroids.\n",
      "2025-05-20 15:01:11,227 - climada.util.coordinates - INFO - No exact centroid match found. Reprojecting coordinates to nearest neighbor closer than the threshold = 100\n",
      "2025-05-20 15:01:11,254 - climada.util.coordinates - WARNING - Distance to closest centroid is greater than 100km for 1 coordinates.\n",
      "2025-05-20 15:01:11,256 - climada.engine.impact_calc - INFO - Calculating impact for 65976 assets (>0) and 111 events.\n"
     ]
    }
   ],
   "source": [
    "# Calculate direct impacts to Japan due to TC\n",
    "imp_calc = ImpactCalc(exp_jpn, impf_set, tc_jpn_target_year)\n",
    "direct_impact_jpn = imp_calc.impact()"
   ]
  },
  {
   "cell_type": "markdown",
   "id": "1f13599b-fe4c-491d-87c2-17723318b705",
   "metadata": {},
   "source": [
    "### Load a Multi Regional Input Output Table (MRIOT)"
   ]
  },
  {
   "cell_type": "markdown",
   "id": "68eacddb-ec19-42a4-a33d-57e84b1aaf2b",
   "metadata": {},
   "source": [
    "At the core of Input Output modeling lies (Multi-Regional) Input-Output Tables, or MRIOTs, a depiction of the economy production structure over multiple regions.\n",
    "\n",
    "This module uses the [pymrio](https://pymrio.readthedocs.io/en/latest/) python package and custom functions to download, parse and save MRIOTs automatically. \n",
    "Currently supported tables are:\n",
    "- [EXIOBASE3](https://zenodo.org/record/3583071#.Y_4zZuzMK3I) (1995-2020; 44 countries; 163 industries)\n",
    "- [WIOD16](https://www.rug.nl/ggdc/valuechain/wiod/) (2000-2014; 43 countries; 56 industries)\n",
    "- [OECD23](https://www.oecd.org/sti/ind/inter-country-input-output-tables.htm) (1995-2020; 66 countries; 45 industries)\n",
    "- [EORA26](https://worldmrio.com/eora26/) [^fn2]\n",
    "\n",
    "[^fn2]: Note that as EORA26 requires connection to an account to be downloaded, you need to download the files yourself and put them in the climada data folder. Parsing is still automatically handled."
   ]
  },
  {
   "cell_type": "markdown",
   "id": "35151b3d-4d70-48b8-a631-2274afd8a127",
   "metadata": {},
   "source": [
    "To load an MRIOT from the available ones, simply use:"
   ]
  },
  {
   "cell_type": "code",
   "execution_count": 77,
   "id": "706d615d-5b8e-481d-a94f-42f441929e42",
   "metadata": {},
   "outputs": [],
   "source": [
    "mriot = get_mriot(\"WIOD16\", mriot_year=2010)"
   ]
  },
  {
   "cell_type": "markdown",
   "id": "81a7cffe-482b-4fd2-8866-be0f20cf6e05",
   "metadata": {},
   "source": [
    "Note that the first time this function is called for a specific MRIOT and year, it requires to download and parse the file. By default, the function then saves the parsed data in the climada data folder, which greatly speeds up subsequent calls to the function."
   ]
  },
  {
   "cell_type": "markdown",
   "id": "7a69245c-884d-4906-bf96-fb932d570aa1",
   "metadata": {},
   "source": [
    "`mriot` is a `pymrio.IOSystem`, representing a Multi-Regional Input Output Table (MRIOT). You can have a look at [pymrio's documentation](https://pymrio.readthedocs.io/en/latest/) to better understand this object.\n",
    "\n",
    "Here are some important available attributes or methods, which you can have a look at:\n",
    "\n",
    "- mriot.Z : the inter-industry flow matrix (also named intermediate demand or transaction matrix), i.e., the absolute flow of goods from region,sector to region,sector (used to produce new goods) in monetary terms.\n",
    "- mriot.Y : the final demand matrix, i,e, the absolute flow of goods from region,sector to region (used as final products by consummers) in monetary terms. Often subdivided into final demand categories (state, households, etc).\n",
    "- mriot.x : the absolute total amout of goods produced by each region, sector, should be equal to the sum of Z and Y (summing the columns together)\n",
    "- mriot.A : the technical coefficient matrix\n",
    "- mriot.get_sectors() : the sector typology\n",
    "- mriot.get_regions() : the region typology"
   ]
  },
  {
   "cell_type": "markdown",
   "id": "cb212c59-8f28-4cfe-aaf8-25364f0af0b8",
   "metadata": {},
   "source": [
    "### Instantiate a DirectShocksSet object"
   ]
  },
  {
   "cell_type": "markdown",
   "id": "3884e4b6-685b-4402-9226-e1507b59f13a",
   "metadata": {},
   "source": [
    "In order to evaluate indirect economic impacts from an Impact object, we first need to translate that object which defines impacts per centroid (coordinates) into an object which defines impacts on industries ((region, sector) couples). This module implements a `DirectShocksSet` for that very purpose: a set of direct shocks on the economy (one for each event held by the `Impact` object).\n",
    "\n",
    "To do this we need to map the geographic exposure and impact to a) the countries or regions of the MRIOT and b) its sectors.\n",
    "\n",
    "Mapping to countries is straightforward, as exposure contains latitude and longitude information, and even a regional id. Thus the region mapping is done automatically for EXIOBASE3, WIOD16 and OECD23 MRIOTs. For custom defined MRIOTs, it will work if the countries of the MRIOT are in ISO3 format.\n",
    "\n",
    "Mapping to sectors is done by selecting the sectors assumed to be impacted and distributing the impact to the sectors. The default distribution is made proportionaly to each sector's production.\n",
    "\n",
    "Results are highly dependant on this modeling choice which requires carefull consideration.\n",
    "\n",
    "The minimum requirements to instantiate a `DirectShocksSet` are:\n",
    "- a MRIOT (in the form of a `pymrio.IOSystem`,\n",
    "- an `Exposures` object,\n",
    "- an `Impact` object,\n",
    "\n",
    "In addition it is strongly advised to also give:\n",
    "- the list of sectors affected by the `Impact`,\n",
    "- and how the impact is distributed to the sectors.\n",
    "\n",
    "Further note that exposure values are converted to the \"monetary factor\" of the MRIOT, assuming they are in unit value in exposure. For instance, EXIOBASE3 is in millions, so exposure values are divided by 1'000'000."
   ]
  },
  {
   "cell_type": "code",
   "execution_count": 78,
   "id": "d9e6a179-14f1-4e3f-bb39-0476263139b6",
   "metadata": {},
   "outputs": [
    {
     "name": "stdout",
     "output_type": "stream",
     "text": [
      "2025-05-20 15:01:12,721 - climada.util.coordinates - INFO - Setting region_id 21999 points.\n"
     ]
    }
   ],
   "source": [
    "direct_shocks = DirectShocksSet.from_exp_and_imp(\n",
    "    mriot=mriot,\n",
    "    exposure=exp_jpn,\n",
    "    impact=direct_impact_jpn,\n",
    "    shock_name=\"TCs in JPN\",\n",
    "    affected_sectors=[\"Forestry and logging\",\"Manufacture of motor vehicles, trailers and semi-trailers\", \"Mining and quarrying\"],\n",
    "    impact_distribution=None,  # None distribute the impact proportionally to the production of each impacted sectors\n",
    ")"
   ]
  },
  {
   "cell_type": "markdown",
   "id": "605cff07-bf83-448d-b59c-89c6f26326d3",
   "metadata": {
    "scrolled": true
   },
   "source": [
    "You can have a look at the different attributes and methods available (mainly those not starting by \"_\"):"
   ]
  },
  {
   "cell_type": "code",
   "execution_count": 79,
   "id": "9489b647-4a60-48a3-8504-b0b730551af8",
   "metadata": {},
   "outputs": [
    {
     "data": {
      "text/plain": [
       "['mriot_sectors',\n",
       " 'mriot_regions',\n",
       " 'mriot_industries',\n",
       " 'event_ids',\n",
       " 'mriot_name',\n",
       " 'monetary_factor',\n",
       " 'name',\n",
       " 'exposure_assets',\n",
       " 'impacted_assets',\n",
       " 'event_dates',\n",
       " 'from_exp_and_imp',\n",
       " 'from_assets_and_imp',\n",
       " 'event_ids_with_impact',\n",
       " 'impacted_assets_not_null',\n",
       " 'exposure_assets_not_null',\n",
       " 'relative_impact',\n",
       " 'relative_impact_not_null',\n",
       " 'combine']"
      ]
     },
     "execution_count": 79,
     "metadata": {},
     "output_type": "execute_result"
    }
   ],
   "source": [
    "[avail for avail in direct_shocks.__dir__() if avail[0] != \"_\"]"
   ]
  },
  {
   "cell_type": "markdown",
   "id": "52f0220b-2228-4ca4-a760-2418251c3eb8",
   "metadata": {
    "scrolled": true
   },
   "source": [
    "This object stores the \"translated\" exposure and impact as `pd.Series` and `pd.DataFrame`.\n",
    "\n",
    "Note that both the translated exposure and impacts use the full typology of regions and sectors from the MRIOT, which results in multiple null values. For convenience, you can access filtered version of the `Series`/`DataFrame` via:"
   ]
  },
  {
   "cell_type": "code",
   "execution_count": 80,
   "id": "3d6ad8b0-0f03-4ca2-bc4c-9a84083d7e53",
   "metadata": {
    "scrolled": true
   },
   "outputs": [
    {
     "data": {
      "text/plain": [
       "region  sector                                                   \n",
       "JPN     Forestry and logging                                         3.760612e+05\n",
       "        Manufacture of motor vehicles, trailers and semi-trailers    1.692583e+07\n",
       "        Mining and quarrying                                         1.603689e+06\n",
       "dtype: float64"
      ]
     },
     "execution_count": 80,
     "metadata": {},
     "output_type": "execute_result"
    }
   ],
   "source": [
    "direct_shocks.exposure_assets_not_null"
   ]
  },
  {
   "cell_type": "code",
   "execution_count": 81,
   "id": "a4c71e55-91eb-4932-a606-643fee0ba028",
   "metadata": {
    "scrolled": true
   },
   "outputs": [
    {
     "data": {
      "text/html": [
       "<div>\n",
       "<style scoped>\n",
       "    .dataframe tbody tr th:only-of-type {\n",
       "        vertical-align: middle;\n",
       "    }\n",
       "\n",
       "    .dataframe tbody tr th {\n",
       "        vertical-align: top;\n",
       "    }\n",
       "\n",
       "    .dataframe thead tr th {\n",
       "        text-align: left;\n",
       "    }\n",
       "\n",
       "    .dataframe thead tr:last-of-type th {\n",
       "        text-align: right;\n",
       "    }\n",
       "</style>\n",
       "<table border=\"1\" class=\"dataframe\">\n",
       "  <thead>\n",
       "    <tr>\n",
       "      <th>region</th>\n",
       "      <th colspan=\"3\" halign=\"left\">JPN</th>\n",
       "    </tr>\n",
       "    <tr>\n",
       "      <th>sector</th>\n",
       "      <th>Forestry and logging</th>\n",
       "      <th>Manufacture of motor vehicles, trailers and semi-trailers</th>\n",
       "      <th>Mining and quarrying</th>\n",
       "    </tr>\n",
       "    <tr>\n",
       "      <th>event_id</th>\n",
       "      <th></th>\n",
       "      <th></th>\n",
       "      <th></th>\n",
       "    </tr>\n",
       "  </thead>\n",
       "  <tbody>\n",
       "    <tr>\n",
       "      <th>3236</th>\n",
       "      <td>0.000315</td>\n",
       "      <td>0.014181</td>\n",
       "      <td>0.001344</td>\n",
       "    </tr>\n",
       "    <tr>\n",
       "      <th>3242</th>\n",
       "      <td>5.271078</td>\n",
       "      <td>237.241644</td>\n",
       "      <td>22.478182</td>\n",
       "    </tr>\n",
       "    <tr>\n",
       "      <th>3243</th>\n",
       "      <td>0.010664</td>\n",
       "      <td>0.479978</td>\n",
       "      <td>0.045477</td>\n",
       "    </tr>\n",
       "    <tr>\n",
       "      <th>3244</th>\n",
       "      <td>38.337255</td>\n",
       "      <td>1725.490101</td>\n",
       "      <td>163.486818</td>\n",
       "    </tr>\n",
       "    <tr>\n",
       "      <th>3248</th>\n",
       "      <td>821.041044</td>\n",
       "      <td>36953.564080</td>\n",
       "      <td>3501.278036</td>\n",
       "    </tr>\n",
       "    <tr>\n",
       "      <th>3250</th>\n",
       "      <td>2.049857</td>\n",
       "      <td>92.260325</td>\n",
       "      <td>8.741486</td>\n",
       "    </tr>\n",
       "    <tr>\n",
       "      <th>3253</th>\n",
       "      <td>220.733284</td>\n",
       "      <td>9934.803622</td>\n",
       "      <td>941.303243</td>\n",
       "    </tr>\n",
       "    <tr>\n",
       "      <th>3254</th>\n",
       "      <td>0.000030</td>\n",
       "      <td>0.001354</td>\n",
       "      <td>0.000128</td>\n",
       "    </tr>\n",
       "    <tr>\n",
       "      <th>3255</th>\n",
       "      <td>6977.844799</td>\n",
       "      <td>314060.103045</td>\n",
       "      <td>29756.581490</td>\n",
       "    </tr>\n",
       "    <tr>\n",
       "      <th>3257</th>\n",
       "      <td>0.001525</td>\n",
       "      <td>0.068660</td>\n",
       "      <td>0.006505</td>\n",
       "    </tr>\n",
       "  </tbody>\n",
       "</table>\n",
       "</div>"
      ],
      "text/plain": [
       "region                    JPN  \\\n",
       "sector   Forestry and logging   \n",
       "event_id                        \n",
       "3236                 0.000315   \n",
       "3242                 5.271078   \n",
       "3243                 0.010664   \n",
       "3244                38.337255   \n",
       "3248               821.041044   \n",
       "3250                 2.049857   \n",
       "3253               220.733284   \n",
       "3254                 0.000030   \n",
       "3255              6977.844799   \n",
       "3257                 0.001525   \n",
       "\n",
       "region                                                              \\\n",
       "sector   Manufacture of motor vehicles, trailers and semi-trailers   \n",
       "event_id                                                             \n",
       "3236                                               0.014181          \n",
       "3242                                             237.241644          \n",
       "3243                                               0.479978          \n",
       "3244                                            1725.490101          \n",
       "3248                                           36953.564080          \n",
       "3250                                              92.260325          \n",
       "3253                                            9934.803622          \n",
       "3254                                               0.001354          \n",
       "3255                                          314060.103045          \n",
       "3257                                               0.068660          \n",
       "\n",
       "region                         \n",
       "sector   Mining and quarrying  \n",
       "event_id                       \n",
       "3236                 0.001344  \n",
       "3242                22.478182  \n",
       "3243                 0.045477  \n",
       "3244               163.486818  \n",
       "3248              3501.278036  \n",
       "3250                 8.741486  \n",
       "3253               941.303243  \n",
       "3254                 0.000128  \n",
       "3255             29756.581490  \n",
       "3257                 0.006505  "
      ]
     },
     "execution_count": 81,
     "metadata": {},
     "output_type": "execute_result"
    }
   ],
   "source": [
    "direct_shocks.impacted_assets_not_null"
   ]
  },
  {
   "cell_type": "markdown",
   "id": "2aa22de6-f2af-4850-84b3-4589e7f181f0",
   "metadata": {
    "scrolled": true
   },
   "source": [
    "Most approaches use the `relative_impact` as a basis for the shock, which is defined as the amount of impacted assets over the amount of exposure assets:"
   ]
  },
  {
   "cell_type": "code",
   "execution_count": 82,
   "id": "514fbc9d-b19c-4a42-bd76-1f7814f8b619",
   "metadata": {
    "scrolled": true
   },
   "outputs": [
    {
     "data": {
      "text/html": [
       "<div>\n",
       "<style scoped>\n",
       "    .dataframe tbody tr th:only-of-type {\n",
       "        vertical-align: middle;\n",
       "    }\n",
       "\n",
       "    .dataframe tbody tr th {\n",
       "        vertical-align: top;\n",
       "    }\n",
       "\n",
       "    .dataframe thead tr th {\n",
       "        text-align: left;\n",
       "    }\n",
       "\n",
       "    .dataframe thead tr:last-of-type th {\n",
       "        text-align: right;\n",
       "    }\n",
       "</style>\n",
       "<table border=\"1\" class=\"dataframe\">\n",
       "  <thead>\n",
       "    <tr>\n",
       "      <th>region</th>\n",
       "      <th colspan=\"3\" halign=\"left\">JPN</th>\n",
       "    </tr>\n",
       "    <tr>\n",
       "      <th>sector</th>\n",
       "      <th>Forestry and logging</th>\n",
       "      <th>Manufacture of motor vehicles, trailers and semi-trailers</th>\n",
       "      <th>Mining and quarrying</th>\n",
       "    </tr>\n",
       "    <tr>\n",
       "      <th>event_id</th>\n",
       "      <th></th>\n",
       "      <th></th>\n",
       "      <th></th>\n",
       "    </tr>\n",
       "  </thead>\n",
       "  <tbody>\n",
       "    <tr>\n",
       "      <th>3236</th>\n",
       "      <td>8.378554e-10</td>\n",
       "      <td>8.378554e-10</td>\n",
       "      <td>8.378554e-10</td>\n",
       "    </tr>\n",
       "    <tr>\n",
       "      <th>3242</th>\n",
       "      <td>1.401655e-05</td>\n",
       "      <td>1.401655e-05</td>\n",
       "      <td>1.401655e-05</td>\n",
       "    </tr>\n",
       "    <tr>\n",
       "      <th>3243</th>\n",
       "      <td>2.835774e-08</td>\n",
       "      <td>2.835774e-08</td>\n",
       "      <td>2.835774e-08</td>\n",
       "    </tr>\n",
       "    <tr>\n",
       "      <th>3244</th>\n",
       "      <td>1.019442e-04</td>\n",
       "      <td>1.019442e-04</td>\n",
       "      <td>1.019442e-04</td>\n",
       "    </tr>\n",
       "    <tr>\n",
       "      <th>3248</th>\n",
       "      <td>2.183265e-03</td>\n",
       "      <td>2.183265e-03</td>\n",
       "      <td>2.183265e-03</td>\n",
       "    </tr>\n",
       "    <tr>\n",
       "      <th>3250</th>\n",
       "      <td>5.450860e-06</td>\n",
       "      <td>5.450860e-06</td>\n",
       "      <td>5.450860e-06</td>\n",
       "    </tr>\n",
       "    <tr>\n",
       "      <th>3253</th>\n",
       "      <td>5.869611e-04</td>\n",
       "      <td>5.869611e-04</td>\n",
       "      <td>5.869611e-04</td>\n",
       "    </tr>\n",
       "    <tr>\n",
       "      <th>3254</th>\n",
       "      <td>7.997938e-11</td>\n",
       "      <td>7.997938e-11</td>\n",
       "      <td>7.997938e-11</td>\n",
       "    </tr>\n",
       "    <tr>\n",
       "      <th>3255</th>\n",
       "      <td>1.855508e-02</td>\n",
       "      <td>1.855508e-02</td>\n",
       "      <td>1.855508e-02</td>\n",
       "    </tr>\n",
       "    <tr>\n",
       "      <th>3257</th>\n",
       "      <td>4.056513e-09</td>\n",
       "      <td>4.056513e-09</td>\n",
       "      <td>4.056513e-09</td>\n",
       "    </tr>\n",
       "  </tbody>\n",
       "</table>\n",
       "</div>"
      ],
      "text/plain": [
       "region                    JPN  \\\n",
       "sector   Forestry and logging   \n",
       "event_id                        \n",
       "3236             8.378554e-10   \n",
       "3242             1.401655e-05   \n",
       "3243             2.835774e-08   \n",
       "3244             1.019442e-04   \n",
       "3248             2.183265e-03   \n",
       "3250             5.450860e-06   \n",
       "3253             5.869611e-04   \n",
       "3254             7.997938e-11   \n",
       "3255             1.855508e-02   \n",
       "3257             4.056513e-09   \n",
       "\n",
       "region                                                              \\\n",
       "sector   Manufacture of motor vehicles, trailers and semi-trailers   \n",
       "event_id                                                             \n",
       "3236                                           8.378554e-10          \n",
       "3242                                           1.401655e-05          \n",
       "3243                                           2.835774e-08          \n",
       "3244                                           1.019442e-04          \n",
       "3248                                           2.183265e-03          \n",
       "3250                                           5.450860e-06          \n",
       "3253                                           5.869611e-04          \n",
       "3254                                           7.997938e-11          \n",
       "3255                                           1.855508e-02          \n",
       "3257                                           4.056513e-09          \n",
       "\n",
       "region                         \n",
       "sector   Mining and quarrying  \n",
       "event_id                       \n",
       "3236             8.378554e-10  \n",
       "3242             1.401655e-05  \n",
       "3243             2.835774e-08  \n",
       "3244             1.019442e-04  \n",
       "3248             2.183265e-03  \n",
       "3250             5.450860e-06  \n",
       "3253             5.869611e-04  \n",
       "3254             7.997938e-11  \n",
       "3255             1.855508e-02  \n",
       "3257             4.056513e-09  "
      ]
     },
     "execution_count": 82,
     "metadata": {},
     "output_type": "execute_result"
    }
   ],
   "source": [
    "direct_shocks.relative_impact_not_null"
   ]
  },
  {
   "cell_type": "markdown",
   "id": "8f6c1932-6aa8-45e6-936a-acefe49f865b",
   "metadata": {},
   "source": [
    "#### Combining multiple DirectShocksSet"
   ]
  },
  {
   "cell_type": "markdown",
   "id": "009ae7f3-d5be-429c-86d9-d072af732f7b",
   "metadata": {},
   "source": [
    "In the possible case that you have different source of exposure data for different sectors, you can define multiple `DirectShocksSet` (each corresponding to the impacts of the same events but over different exposure), and combine them into one single `DirectShocksSet` using the `combine` class method, for instance, assuming `exp_jpn_forestry` and `exp_jpn_mining` are Exposures object defining exposure data for the Forestry sector and the Mining sector respectively:\n",
    "\n",
    "```python\n",
    "direct_shocks_forestry = DirectShocksSet.from_exp_and_imp(\n",
    "    mriot=mriot,\n",
    "    exposure=exp_jpn_forestry,\n",
    "    impact=direct_impact_jpn,\n",
    "    shock_name=\"TCs in JPN on forestry\",\n",
    "    affected_sectors=[\"Forestry and logging\"],\n",
    "    impact_distribution=None,  # None distribute the impact proportionally to the production of each impacted sectors\n",
    "\n",
    "direct_shocks_mining = DirectShocksSet.from_exp_and_imp(\n",
    "    mriot=mriot,\n",
    "    exposure=exp_jpn_mining,\n",
    "    impact=direct_impact_jpn,\n",
    "    shock_name=\"TCs in JPN on mining\",\n",
    "    affected_sectors=[\"Mining and quarrying\"],\n",
    "    impact_distribution=None,  # None distribute the impact proportionally to the production of each impacted sectors\n",
    "\n",
    "direct_shocks = DirectShocksSet.combine([direct_shocks_forestry,direct_shocks_mining], kind=\"merge\")\n",
    ")\n",
    "```\n",
    "\n",
    "This `combine` method can also be used with `kind=\"concat\"`, to concatenate `DirectShocksSet` from different impacts into one."
   ]
  },
  {
   "cell_type": "markdown",
   "id": "c6c13ad1-4d54-4610-8f97-84195eeb2ce5",
   "metadata": {},
   "source": [
    "#### Defining custom `DirectShocksSet`"
   ]
  },
  {
   "cell_type": "markdown",
   "id": "bcac54cb-d16f-4801-82e7-3aaf1771ae18",
   "metadata": {},
   "source": [
    "You can also define `DirectShocksSet` directly with a Series of exposure assets:\n",
    "\n",
    "```python\n",
    "exposure_assets = pd.Series([your_exposure_data], \n",
    "                            index=pd.MultiIndex.from_product(\n",
    "                                [list_of_regions, list_of_sectors],\n",
    "                                names=[\"region\",\"sectors\"]\n",
    "                            )\n",
    "                           )\n",
    "direct_shocks = DirectShocksSet.from_assets_and_imp(exposure_assets=exposure_assets,\n",
    "                                    impact=your_Impact_object,\n",
    "                                    affected_sectors=your_list_of_affected_sectors,\n",
    "                                    impact_distribution=your_impact_distribution\n",
    "                                   )\n",
    "```"
   ]
  },
  {
   "cell_type": "markdown",
   "id": "fe497d54-df51-40b2-b993-9ee2d4ba9d9e",
   "metadata": {},
   "source": [
    "### Leontief (and Ghosh) static models\n",
    "\n",
    "The mathematical idea behind Input-Output (I-O) analysis revolves around using linear algebra to represent the interconnections between industries in an economy. It’s based on the Leontief model, named after economist Wassily Leontief, who developed the theory circa 1960.\n",
    "\n",
    "The main goal is to see how changes in demand affect the entire economic system by solving for the total output required to meet that demand, through the \"Leontief inverse\". This matrix shows how a change in final demand for one industry’s output affects the overall economy (assuming the \"recipes\" of production and the trade relationship remain the same).\n",
    "\n",
    "In the Ghosh model, the focus is on how changes in the supply of inputs (like raw materials or labor) affect the total output of industries.\n",
    "Note however that the Ghosh model assumes a supply-driven economy, which is in general not verified. Thus results with this approach should be taken with caution.\n",
    "\n",
    "In the module we employ the already well implemented methods of the `pymrio` package to compute these indirect effects. For the Leontief approach, the change (decrease) in final demand is computed as the `relative_impact` times the original final demand. For the Ghosh approach, the change (decrease) in value added is computed as the `relative_impact` times the original value added."
   ]
  },
  {
   "cell_type": "code",
   "execution_count": 83,
   "id": "8e2deb97-090d-42bc-909d-963263402dab",
   "metadata": {},
   "outputs": [],
   "source": [
    "model = StaticIOModel(mriot, direct_shocks)"
   ]
  },
  {
   "cell_type": "markdown",
   "id": "558168e6-e6bf-406e-9a1f-de9bf92ea3b0",
   "metadata": {},
   "source": [
    "Computation of the indirect impacts is straightforward:"
   ]
  },
  {
   "cell_type": "code",
   "execution_count": 84,
   "id": "f816ad46-97dc-4260-93d6-d96d009e7c22",
   "metadata": {},
   "outputs": [],
   "source": [
    "res = model.calc_indirect_impacts()"
   ]
  },
  {
   "cell_type": "markdown",
   "id": "3ed15826-1440-4438-8791-f1c5efb5a9bf",
   "metadata": {},
   "source": [
    "`res` is a pd.DataFrame which contains the results per (event, region, sector, method), for both the Leontief approach (shock assumed as a degraded demand) and the Ghosh approach (shock assumed as a degraded value added), and for three different metrics:\n",
    "\n",
    "1. absolute production change: the absolute loss or gain of production\n",
    "2. relative production change: the change in production relative to the original production in the MRIOT\n",
    "3. production lost to shock ratio: the change in production relative to the direct impact on the (region,sector) (with 0 if the sector wasn't directly shocked).\n",
    "\n",
    "By default, only events with non null (direct) impacts are considered. To include all events, you can use `model.calc_indirect_impacts(event_ids=None)`. You can also compute for a specific set of events with `model.calc_indirect_impacts(event_ids=[<list of event ids>])`"
   ]
  },
  {
   "cell_type": "code",
   "execution_count": 85,
   "id": "73fe8a89-9520-4c4b-9d3e-8556c7b273ae",
   "metadata": {},
   "outputs": [
    {
     "data": {
      "text/html": [
       "<div>\n",
       "<style scoped>\n",
       "    .dataframe tbody tr th:only-of-type {\n",
       "        vertical-align: middle;\n",
       "    }\n",
       "\n",
       "    .dataframe tbody tr th {\n",
       "        vertical-align: top;\n",
       "    }\n",
       "\n",
       "    .dataframe thead th {\n",
       "        text-align: right;\n",
       "    }\n",
       "</style>\n",
       "<table border=\"1\" class=\"dataframe\">\n",
       "  <thead>\n",
       "    <tr style=\"text-align: right;\">\n",
       "      <th></th>\n",
       "      <th>event_id</th>\n",
       "      <th>region</th>\n",
       "      <th>sector</th>\n",
       "      <th>method</th>\n",
       "      <th>metric</th>\n",
       "      <th>value</th>\n",
       "    </tr>\n",
       "  </thead>\n",
       "  <tbody>\n",
       "    <tr>\n",
       "      <th>0</th>\n",
       "      <td>3236</td>\n",
       "      <td>AUS</td>\n",
       "      <td>Accommodation and food service activities</td>\n",
       "      <td>ghosh</td>\n",
       "      <td>absolute production change</td>\n",
       "      <td>-9.897446e-08</td>\n",
       "    </tr>\n",
       "    <tr>\n",
       "      <th>1</th>\n",
       "      <td>3236</td>\n",
       "      <td>AUS</td>\n",
       "      <td>Accommodation and food service activities</td>\n",
       "      <td>ghosh</td>\n",
       "      <td>production lost to sector shock ratio</td>\n",
       "      <td>0.000000e+00</td>\n",
       "    </tr>\n",
       "    <tr>\n",
       "      <th>2</th>\n",
       "      <td>3236</td>\n",
       "      <td>AUS</td>\n",
       "      <td>Accommodation and food service activities</td>\n",
       "      <td>ghosh</td>\n",
       "      <td>production lost to total shock ratio</td>\n",
       "      <td>-6.248332e-06</td>\n",
       "    </tr>\n",
       "    <tr>\n",
       "      <th>3</th>\n",
       "      <td>3236</td>\n",
       "      <td>AUS</td>\n",
       "      <td>Accommodation and food service activities</td>\n",
       "      <td>ghosh</td>\n",
       "      <td>relative production change</td>\n",
       "      <td>-1.487147e-12</td>\n",
       "    </tr>\n",
       "    <tr>\n",
       "      <th>4</th>\n",
       "      <td>3236</td>\n",
       "      <td>AUS</td>\n",
       "      <td>Accommodation and food service activities</td>\n",
       "      <td>leontief</td>\n",
       "      <td>absolute production change</td>\n",
       "      <td>-2.236537e-08</td>\n",
       "    </tr>\n",
       "    <tr>\n",
       "      <th>...</th>\n",
       "      <td>...</td>\n",
       "      <td>...</td>\n",
       "      <td>...</td>\n",
       "      <td>...</td>\n",
       "      <td>...</td>\n",
       "      <td>...</td>\n",
       "    </tr>\n",
       "    <tr>\n",
       "      <th>197115</th>\n",
       "      <td>3257</td>\n",
       "      <td>USA</td>\n",
       "      <td>Wholesale trade, except of motor vehicles and ...</td>\n",
       "      <td>ghosh</td>\n",
       "      <td>relative production change</td>\n",
       "      <td>-3.018526e-13</td>\n",
       "    </tr>\n",
       "    <tr>\n",
       "      <th>197116</th>\n",
       "      <td>3257</td>\n",
       "      <td>USA</td>\n",
       "      <td>Wholesale trade, except of motor vehicles and ...</td>\n",
       "      <td>leontief</td>\n",
       "      <td>absolute production change</td>\n",
       "      <td>-1.634949e-06</td>\n",
       "    </tr>\n",
       "    <tr>\n",
       "      <th>197117</th>\n",
       "      <td>3257</td>\n",
       "      <td>USA</td>\n",
       "      <td>Wholesale trade, except of motor vehicles and ...</td>\n",
       "      <td>leontief</td>\n",
       "      <td>production lost to sector shock ratio</td>\n",
       "      <td>0.000000e+00</td>\n",
       "    </tr>\n",
       "    <tr>\n",
       "      <th>197118</th>\n",
       "      <td>3257</td>\n",
       "      <td>USA</td>\n",
       "      <td>Wholesale trade, except of motor vehicles and ...</td>\n",
       "      <td>leontief</td>\n",
       "      <td>production lost to total shock ratio</td>\n",
       "      <td>-2.131873e-05</td>\n",
       "    </tr>\n",
       "    <tr>\n",
       "      <th>197119</th>\n",
       "      <td>3257</td>\n",
       "      <td>USA</td>\n",
       "      <td>Wholesale trade, except of motor vehicles and ...</td>\n",
       "      <td>leontief</td>\n",
       "      <td>relative production change</td>\n",
       "      <td>-1.304762e-12</td>\n",
       "    </tr>\n",
       "  </tbody>\n",
       "</table>\n",
       "<p>197120 rows × 6 columns</p>\n",
       "</div>"
      ],
      "text/plain": [
       "        event_id region                                             sector  \\\n",
       "0           3236    AUS          Accommodation and food service activities   \n",
       "1           3236    AUS          Accommodation and food service activities   \n",
       "2           3236    AUS          Accommodation and food service activities   \n",
       "3           3236    AUS          Accommodation and food service activities   \n",
       "4           3236    AUS          Accommodation and food service activities   \n",
       "...          ...    ...                                                ...   \n",
       "197115      3257    USA  Wholesale trade, except of motor vehicles and ...   \n",
       "197116      3257    USA  Wholesale trade, except of motor vehicles and ...   \n",
       "197117      3257    USA  Wholesale trade, except of motor vehicles and ...   \n",
       "197118      3257    USA  Wholesale trade, except of motor vehicles and ...   \n",
       "197119      3257    USA  Wholesale trade, except of motor vehicles and ...   \n",
       "\n",
       "          method                                 metric         value  \n",
       "0          ghosh             absolute production change -9.897446e-08  \n",
       "1          ghosh  production lost to sector shock ratio  0.000000e+00  \n",
       "2          ghosh   production lost to total shock ratio -6.248332e-06  \n",
       "3          ghosh             relative production change -1.487147e-12  \n",
       "4       leontief             absolute production change -2.236537e-08  \n",
       "...          ...                                    ...           ...  \n",
       "197115     ghosh             relative production change -3.018526e-13  \n",
       "197116  leontief             absolute production change -1.634949e-06  \n",
       "197117  leontief  production lost to sector shock ratio  0.000000e+00  \n",
       "197118  leontief   production lost to total shock ratio -2.131873e-05  \n",
       "197119  leontief             relative production change -1.304762e-12  \n",
       "\n",
       "[197120 rows x 6 columns]"
      ]
     },
     "execution_count": 85,
     "metadata": {},
     "output_type": "execute_result"
    }
   ],
   "source": [
    "res"
   ]
  },
  {
   "cell_type": "markdown",
   "id": "682497ab-c166-4305-b937-1e7cd25bfe43",
   "metadata": {},
   "source": [
    "The tidy format of the results allows for easy plotting and data manipulation."
   ]
  },
  {
   "cell_type": "markdown",
   "id": "e73e88f3-8148-448a-8ffd-b98ac9c95128",
   "metadata": {},
   "source": [
    "#### Top ten impacted sectors in Japan (relative to their production), with the Leontief method:"
   ]
  },
  {
   "cell_type": "code",
   "execution_count": 86,
   "id": "7d70099f-ab62-4666-8761-c06159a2647a",
   "metadata": {},
   "outputs": [
    {
     "data": {
      "text/plain": [
       "<seaborn.axisgrid.FacetGrid at 0x702357934dd0>"
      ]
     },
     "execution_count": 86,
     "metadata": {},
     "output_type": "execute_result"
    },
    {
     "data": {
      "image/png": "[encoded data removed]",
      "text/plain": [
       "<Figure size 942.125x500 with 1 Axes>"
      ]
     },
     "metadata": {},
     "output_type": "display_data"
    }
   ],
   "source": [
    "import seaborn as sns\n",
    "from matplotlib.ticker import PercentFormatter\n",
    "\n",
    "plot_df = res.copy()\n",
    "plot_df = plot_df.loc[\n",
    "    (plot_df[\"region\"] == \"JPN\")\n",
    "    & (plot_df[\"metric\"] == \"relative production change\")\n",
    "    & (plot_df[\"method\"] == \"leontief\")\n",
    "].sort_values(\"value\").head(10)\n",
    "\n",
    "g = sns.catplot(\n",
    "    plot_df,\n",
    "    kind=\"bar\",\n",
    "    x=\"event_id\",\n",
    "    y=\"value\",\n",
    "    hue=\"sector\",\n",
    "    row=\"method\",\n",
    "    #aspect=4,\n",
    "    palette=\"tab20\",\n",
    "    # col = \"metric\"\n",
    ")\n",
    "\n",
    "g.set_ylabels(\"Relative production change\")\n",
    "g.axes.flat[0].yaxis.set_major_formatter(PercentFormatter(1))\n",
    "\n",
    "# g.axes\n",
    "g.set_xticklabels(g.axes[0, 0].get_xticklabels(), rotation=90, fontsize=11)"
   ]
  },
  {
   "cell_type": "markdown",
   "id": "8dbc0c22-0119-4ce0-bde2-b4ea4c397855",
   "metadata": {},
   "source": [
    "#### Top ten impacted sectors outside Japan (relative to their production), with the Leontief method:\n",
    "\n",
    "Note how the impacts are two orders of magnitude bellow the previous ones."
   ]
  },
  {
   "cell_type": "code",
   "execution_count": 87,
   "id": "0144c4fc-602d-4281-ae31-f0ee21ac38bd",
   "metadata": {},
   "outputs": [
    {
     "data": {
      "image/png": "[encoded data removed]",
      "text/plain": [
       "<Figure size 2404x1000 with 6 Axes>"
      ]
     },
     "metadata": {},
     "output_type": "display_data"
    }
   ],
   "source": [
    "import seaborn as sns\n",
    "from matplotlib.ticker import PercentFormatter\n",
    "\n",
    "plot_df = res.copy()\n",
    "plot_df = plot_df.loc[\n",
    "    (plot_df[\"region\"] != \"JPN\")\n",
    "    & (plot_df[\"metric\"] == \"relative production change\")\n",
    "    & (plot_df[\"method\"] == \"leontief\")\n",
    "].sort_values(\"value\").head(10)\n",
    "\n",
    "g = sns.catplot(\n",
    "    plot_df,\n",
    "    kind=\"bar\",\n",
    "    x=\"event_id\",\n",
    "    y=\"value\",\n",
    "    hue=\"sector\",\n",
    "    col=\"region\",\n",
    "    col_wrap=3,\n",
    "    palette=\"tab20\",\n",
    ")\n",
    "\n",
    "sns.move_legend(g, \"lower center\",\n",
    "    bbox_to_anchor=(.3, -0.1), ncol=2, title=None, frameon=False)\n",
    "\n",
    "g.set_ylabels(\"Relative production change\")\n",
    "g.axes.flat[0].yaxis.set_major_formatter(PercentFormatter(1))"
   ]
  },
  {
   "cell_type": "markdown",
   "id": "7db9d68e-4e5b-4b30-8daa-a7ae00cf3c6d",
   "metadata": {},
   "source": [
    "### Dynamic models\n",
    "\n",
    "Static I-O models simply compute the change in equilibrium due to a shock. As such the recovery phase (and possible arising complications) is not accounted for.\n",
    "\n",
    "Dynamic models fill this gap. There is a vast literature on the subject as many types of model exists, and it cannot be summarised within this notebook. \n",
    "In addition, only the ARIO model is currently available within the module, via the `boario` package.\n",
    "\n",
    "If you are interested feel free to get in touch, and I can also suggest these two reviews: \n",
    "\n",
    "1. Botzen et al. 2019. https://www.journals.uchicago.edu/doi/10.1093/reep/rez004\n",
    "2. Coronese, Luzatti. 2022. https://papers.ssrn.com/sol3/papers.cfm?abstract_id=4101276"
   ]
  },
  {
   "cell_type": "markdown",
   "id": "1d3d7eef-d158-4ca4-8415-3ae69c923529",
   "metadata": {},
   "source": [
    "#### ARIO with `BoARIO`\n",
    "\n",
    "The ARIO model offers a more \"advanced\" approach to compute indirect impacts. To understand more about the model we refer you to its seminal papers [Hallegatte 2008](https://doi.org/10.1111/j.1539-6924.2008.01046.x) and [Hallegatte 2013](https://doi.org/10.1111/risa.12090), as well as [the documentation](https://spjuhel.github.io/BoARIO/boario-what-is.html) of the `boario` package which is the implementation used in CLIMADA.\n",
    "\n",
    "`boario` implements different kind of events, to account for a broad typology of impacts:\n",
    "- `recovery` events, where the direct impact is translated into a loss of production capacity which is recovered over time exogenously.\n",
    "- `rebuild` events, where the direct impact is translated into a loss of productive capital (assets) resulting in a loss of production capacity. In this case assets are also recovered over time, but through an endogenous reconstruction, which involves an additional final demand in the model.\n",
    "\n",
    "For more details, we again refer to the `boario` documentation on [How to define events](https://spjuhel.github.io/BoARIO/tutorials/boario-events.html)"
   ]
  },
  {
   "cell_type": "code",
   "execution_count": 88,
   "id": "641e5457-5a9d-4c3f-a5b9-161b19e3c9c2",
   "metadata": {},
   "outputs": [
    {
     "name": "stdout",
     "output_type": "stream",
     "text": [
      "2025-05-20 15:01:18,321 - climada.util.coordinates - INFO - Setting region_id 21999 points.\n"
     ]
    }
   ],
   "source": [
    "# We redefine a direct shock on all sectors this time\n",
    "direct_shocks = DirectShocksSet.from_exp_and_imp(\n",
    "    mriot,\n",
    "    exp_jpn,\n",
    "    direct_impact_jpn,\n",
    "    shock_name=\"TCs in JPN\",\n",
    "    affected_sectors=\"all\",\n",
    "    impact_distribution=None,\n",
    ")"
   ]
  },
  {
   "cell_type": "markdown",
   "id": "bc794837-36b5-4753-9128-9e061f200333",
   "metadata": {},
   "source": [
    "There are multiple things that can be paramterized within `boario`, the simulation itself, as well as the model and the events. \n",
    "\n",
    "These parameters are passed to the package using three dictionaries read as kwargs by the different modules/classes of the boario package. This aspect still requires work as some parameters configurations may conflict with the coupling.\n",
    "\n",
    "If you want to dig deeper, have a look at:\n",
    "\n",
    "- https://spjuhel.github.io/BoARIO/tutorials/simulation-context.html and https://spjuhel.github.io/BoARIO/develop/en/_autosummary/boario.simulation.Simulation.html for simulation parameters\n",
    "- https://spjuhel.github.io/BoARIO/develop/en/_autosummary/boario.extended_models.ARIOPsiModel.html for the model\n",
    "- https://spjuhel.github.io/BoARIO/develop/en/_autosummary/boario.event.html for the events\n",
    "\n",
    "<div class=\"alert alert-info\">\n",
    "\n",
    "We raise your attention on several important points:\n",
    "\n",
    "The use of `boario`, although it offers more depth in results and in modelling possibilities, also requires you to configure it more than the previous approaches. For this a good understanding of the model is required.\n",
    "The purpose of this tutorial is to show what is available in CLIMADA, but it does not replace an extensive reading about the model, its assumptions and its limitations.\n",
    "\n",
    "Some options for `boario` are set by default either by CLIMADA or BoARIO, if you do not specify them. This ***does not mean*** that these default values are good in general as no generic case exists.\n",
    "You should get familiar with the parameters and reflect on what choices are fitting for your case.\n",
    "\n",
    "`boario` computations are much longer with respect to the previous approach. A progress bar is shown by default which indicates the estimated time a simulation requires. This time is highly dependent on:\n",
    "- The size of the MRIOT used (number of regions x number of sectors)\n",
    "- The number of events to simulate\n",
    "\n",
    "</div>"
   ]
  },
  {
   "cell_type": "code",
   "execution_count": 89,
   "id": "6bfeb9e6-8121-415f-af98-a2473ba05b0a",
   "metadata": {},
   "outputs": [
    {
     "name": "stderr",
     "output_type": "stream",
     "text": [
      "/home/sjuhel/miniforge3/envs/supplychaindev/lib/python3.11/site-packages/boario/model_base.py:180: UserWarning: Custom monetary factor found in the IOSystem, continuing with this one (1000000)\n",
      "  warnings.warn(\n"
     ]
    },
    {
     "name": "stdout",
     "output_type": "stream",
     "text": [
      "2025-05-20 15:01:20,470 - climada_petals.engine.supplychain.core - WARNING - Impact for following events was too small to have an effect, skipping them for efficiency: [249, 250, 251, 252, 253, 254, 255, 256, 257, 258, 903, 904, 905, 906, 907, 908, 909, 910, 911, 912, 913, 914, 915, 916, 917, 918, 919, 1479, 1480, 1481, 1482, 1483, 1484, 1485, 1486, 1487, 1488, 1489, 1490, 1491, 1492, 1493, 1494, 1495, 1496, 1497, 1498, 1956, 1957, 1958, 1959, 1960, 1961, 1962, 1963, 3232, 3233, 3234, 3235, 3237, 3238, 3239, 3240, 3241, 3245, 3246, 3247, 3249, 3251, 3252, 3256, 3258, 3259, 3260, 3261, 3262, 3263, 3264, 3265, 3848, 3849, 3850, 3851, 3852, 3853, 3854, 3855, 3856, 3857, 3858, 3859, 3860, 3861, 3862, 3863, 3864, 3865, 3866, 3867, 3868, 3869]\n"
     ]
    },
    {
     "name": "stderr",
     "output_type": "stream",
     "text": [
      "/home/sjuhel/miniforge3/envs/supplychaindev/lib/python3.11/site-packages/boario/event.py:853: UserWarning: Impact for some industries (True total), is smaller than 1e-05 and will be considered as 0. by the model.\n",
      "  self._check_negligeable_impact(impact)\n"
     ]
    }
   ],
   "source": [
    "dyn_model = BoARIOModel(\n",
    "    mriot,\n",
    "    direct_shocks,\n",
    "    simulation_kwargs={\"show_progress\": True},\n",
    "    model_kwargs={\"order_type\": \"alt\"},\n",
    "    event_kwargs={\"recovery_tau\": 180},\n",
    ")"
   ]
  },
  {
   "cell_type": "markdown",
   "id": "175c3b94-4b42-4b82-8de0-dcfbe0cf4429",
   "metadata": {},
   "source": [
    "The time required to run the simulation heavily depends on the MRIOTs (the number of regions * sectors), and the number of steps to simulate of course. \n",
    "With WIOD and the choosen events, it should take around 2 minutes on a recent computer.\n",
    "EXIOBASE 3 is more in the 30-45 minutes range.\n",
    "An estimate of the progress should be shown during the simulation.\n",
    "\n",
    "Also note that some warnings may be raised by events that are too small to have a meaningfull impacts."
   ]
  },
  {
   "cell_type": "code",
   "execution_count": 90,
   "id": "7747c1fb-f7fd-4a95-9192-4d87e69e77d2",
   "metadata": {},
   "outputs": [
    {
     "name": "stderr",
     "output_type": "stream",
     "text": [
      "Processed: Step: 725 ~ \u001b[38;2;0;255;0m100%\u001b[39m Time:  0:03:26                 \n",
      "Processed: Step: 725 ~ \u001b[38;2;0;255;0m100%\u001b[39m Time:  0:03:26                 "
     ]
    }
   ],
   "source": [
    "res = dyn_model.run_sim()"
   ]
  },
  {
   "cell_type": "markdown",
   "id": "90be013b-0b28-452a-9e19-2b2964a3a20a",
   "metadata": {},
   "source": [
    "`res` contains a Simulation object from `boario` which among other things contains all the time series of the state variables."
   ]
  },
  {
   "cell_type": "markdown",
   "id": "189b4bd1-aa92-4ab6-94df-00eca2c735e3",
   "metadata": {},
   "source": [
    "For instance you can plot the evoluation of the `production_realised` in relative terms using the following.\n",
    "The second graph, below, shows the impacts and occurrences of the different (non-zero) events.\n",
    "\n",
    "Note that on this graph we focus between step 160 and 500."
   ]
  },
  {
   "cell_type": "code",
   "execution_count": 91,
   "id": "8b1a4695-de38-4062-b461-c67b2289fc13",
   "metadata": {},
   "outputs": [
    {
     "data": {
      "text/plain": [
       "Text(0.5, 0, 'step')"
      ]
     },
     "execution_count": 91,
     "metadata": {},
     "output_type": "execute_result"
    },
    {
     "data": {
      "image/png": "[encoded data removed]",
      "text/plain": [
       "<Figure size 1200x500 with 2 Axes>"
      ]
     },
     "metadata": {},
     "output_type": "display_data"
    }
   ],
   "source": [
    "occ = [ev.occurrence for ev in res.all_events]\n",
    "imps = [ev.impact.sum() for ev in res.all_events]\n",
    "\n",
    "fig,axs = plt.subplots(figsize=(18,8),nrows=2, sharex=True)\n",
    "\n",
    "(res.production_realised / res.production_realised.loc[0]).loc[\n",
    "    160:500, (\"JPN\", \"Manufacture of basic metals\")\n",
    "].plot(legend=False, figsize=(12,5), ax=axs[0])\n",
    "\n",
    "bars = axs[1].bar(occ, imps, width=1, color='r', label='Direct impact', alpha=1)\n",
    "axs[1].set_yscale(\"log\")\n",
    "axs[0].set_ylabel(\"Relative production level\")\n",
    "axs[1].set_xlabel(\"step\")"
   ]
  }
 ],
 "metadata": {
  "kernelspec": {
   "display_name": "supplychaindev",
   "language": "python",
   "name": "supplychaindev"
  },
  "language_info": {
   "codemirror_mode": {
    "name": "ipython",
    "version": 3
   },
   "file_extension": ".py",
   "mimetype": "text/x-python",
   "name": "python",
   "nbconvert_exporter": "python",
   "pygments_lexer": "ipython3",
   "version": "3.11.12"
  }
 },
 "nbformat": 4,
 "nbformat_minor": 5
}
