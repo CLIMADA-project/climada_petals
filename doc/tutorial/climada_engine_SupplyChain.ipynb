{
 "cells": [
  {
   "cell_type": "markdown",
   "id": "3ba46e11",
   "metadata": {},
   "source": [
    "# SupplyChain class"
   ]
  },
  {
   "cell_type": "markdown",
   "id": "6f5dd78e",
   "metadata": {},
   "source": [
    "## What is a SupplyChain object?"
   ]
  },
  {
   "cell_type": "markdown",
   "id": "88e7bac1",
   "metadata": {},
   "source": [
    "This tutorial shows how to use the `SupplyChain` class of CLIMADA. This class allows assessing indirect economic impacts via Input-Output (IO) based modeling.\n",
    "\n",
    "This tutorial assumes you are familiar with direct impact computation with CLIMADA with the [`Exposures`](https://climada-python.readthedocs.io/en/stable/tutorial/climada_entity_Exposures.html), [`Hazard`](https://climada-python.readthedocs.io/en/stable/tutorial/climada_hazard_Hazard.html) and [`Impact`](https://climada-python.readthedocs.io/en/stable/tutorial/climada_engine_Impact.html) classes. Likewise, this tutorial assumes you are familiar with IO based modeling¹.\n",
    "\n",
    "¹) We recommend the following book: Miller, R. E., & Blair, P. D. (2009). Input-Output Analysis: Foundations and Extensions (2nd ed.). Cambridge: Cambridge University Press."
   ]
  },
  {
   "cell_type": "markdown",
   "id": "c7c0ebcb",
   "metadata": {},
   "source": [
    "## Goal of this tutorial"
   ]
  },
  {
   "cell_type": "markdown",
   "id": "a91229ad",
   "metadata": {
    "jp-MarkdownHeadingCollapsed": true
   },
   "source": [
    "The goal of this tutorial is to present **indirect** impact computations for the different available approaches, by presenting how to set up a global supply chain risk analysis for tropical cyclones hitting the United States."
   ]
  },
  {
   "cell_type": "markdown",
   "id": "6bacfdc3",
   "metadata": {},
   "source": [
    "## What approaches are available?\n",
    "\n",
    "Here, we **briefly** describe the available approaches. We **strongly** advise you to find more detailed documentation online or in the literature if you are not familiar with these concepts."
   ]
  },
  {
   "cell_type": "markdown",
   "id": "63b68c5e",
   "metadata": {},
   "source": [
    "### Leontief"
   ]
  },
  {
   "cell_type": "markdown",
   "id": "72b91b12",
   "metadata": {
    "jp-MarkdownHeadingCollapsed": true
   },
   "source": [
    "The Leontief approach to conducting an indirect impact assessment involves using a Multi-Regional Input Output Table (MRIOT) to quantify the ripple effects of a **change in final demand** throughout the economy. The key steps are:\n",
    "\n",
    "1. Obtain the Leontief inverse matrix from the intermediate demand matrix of the MRIOT (or transaction matrix), which represents the total (direct and indirect) requirements of each sector per unit of final demand. This captures the interdependencies between different sectors.\n",
    "2. Multiply the Leontief inverse matrix by the change in final demand (the \"exogenous variable\") to calculate the indirect impacts on production in each sector.\n",
    "3. The indirect effects analysis assesses the secondary needs arising from interactions among different sectors, considering the infinite iterations within the production system.\n",
    "4. This allows for a comprehensive assessment of the indirect impacts beyond the first-order, direct impacts of the change in final demand."
   ]
  },
  {
   "cell_type": "markdown",
   "id": "3bc6ea4a",
   "metadata": {},
   "source": [
    "### Ghosh"
   ]
  },
  {
   "cell_type": "markdown",
   "id": "b416fa87",
   "metadata": {
    "jp-MarkdownHeadingCollapsed": true
   },
   "source": [
    "The Ghosh approach to conducting an indirect impact assessment is similar to the Leontief approach, but with some key differences:\n",
    "\n",
    "1. The Ghosh model focuses on the supply-side of the economy, rather than the demand-side as in the Leontief model. It analyzes the impacts of changes in primary inputs (most often the value-added, which is what we use in the module) on the output of each sector.\n",
    "2. The Ghosh inverse matrix represents the total (direct and indirect) output requirements per unit of primary input, capturing the forward linkages in the production system.\n",
    "3. To assess the indirect impacts, the Ghosh inverse matrix is multiplied by the change in primary inputs (the \"exogenous variable\") to calculate the resulting changes in sectoral outputs.\n",
    "\n",
    "Note however, that the Ghosh model has been criticized for its lack of economic plausibility, as it assumes that consumption is unresponsive to changes in income. Which is considered an unrealistic assumption."
   ]
  },
  {
   "cell_type": "markdown",
   "id": "ebaf734e",
   "metadata": {},
   "source": [
    "### ARIO (with the `boario` package)"
   ]
  },
  {
   "cell_type": "markdown",
   "id": "eb4d44cc",
   "metadata": {
    "jp-MarkdownHeadingCollapsed": true
   },
   "source": [
    "ARIO stands for Adaptive Regional Input-Output. It is an hybrid input-output agent-based dynamic economic model, designed to compute indirect costs from economic shocks.\n",
    "Its first version dates back to 2008 and has originally been developed to assess the indirect costs of natural disasters [[Hallegatte 2008](https://doi.org/10.1111/j.1539-6924.2008.01046.x), [Hallegatte 2013](https://doi.org/10.1111/risa.12090)].\n",
    "\n",
    "CLIMADA employs the [`boario`](https://spjuhel.github.io/BoARIO/boario-what-is.html) python package which implements the ARIO model.\n",
    "\n",
    "Here are its keys elements:\n",
    "\n",
    "- The economy is modelled as a set of economic sectors and a set of regions (the initial equilibrium state of the economy is built based on a MRIOT).\n",
    "- Each economic sector produces its generic product and draws inputs from an inventory.\n",
    "- Each sector answers to a total demand consisting of a final demand (household consumption, public spending and private investments) of all regions (local demand and exports) and intermediate demand (through input inventory resupply).\n",
    "\n",
    "Currently, with CLIMADA, two kinds of shocks can be implemented:\n",
    "\n",
    "1. On the production capacity directly (one or multiple industries are forced to produce less and recover over time)\n",
    "2. On the productive capital (one or multiple industries lose some part of their factors of production and are thus forced to both produce less and to build back their capital stock which creates an additional demand in the economy).\n",
    "\n",
    "The model then describes how exogenous shocks propagate across the economy at each time step.\n",
    "\n"
   ]
  },
  {
   "cell_type": "markdown",
   "id": "66599a90",
   "metadata": {},
   "source": [
    "## Tutorial"
   ]
  },
  {
   "cell_type": "code",
   "execution_count": null,
   "id": "51d33332",
   "metadata": {},
   "outputs": [],
   "source": [
    "import numpy as np\n",
    "import pandas as pd\n",
    "\n",
    "from climada.util.api_client import Client\n",
    "from climada_petals.engine import SupplyChain\n",
    "from climada.entity import ImpfTropCyclone, ImpactFuncSet\n",
    "from climada.engine.impact_calc import ImpactCalc\n",
    "import datetime as dt\n",
    "\n",
    "client = Client()"
   ]
  },
  {
   "cell_type": "markdown",
   "id": "880b6d32",
   "metadata": {},
   "source": [
    "### 1. Calculate direct economic impacts"
   ]
  },
  {
   "cell_type": "markdown",
   "id": "7fe4f726",
   "metadata": {},
   "source": [
    "The first step is to conduct a direct impact analysis. To do so, we need to define an exposure, a hazard and a vulnerability. In this tutorial we will load the LitPop exposure for the USA from the CLIMADA Data API."
   ]
  },
  {
   "cell_type": "code",
   "execution_count": null,
   "id": "3ae1ef20",
   "metadata": {},
   "outputs": [],
   "source": [
    "exp_usa = client.get_litpop('USA')"
   ]
  },
  {
   "cell_type": "markdown",
   "id": "1f216d27",
   "metadata": {},
   "source": [
    "Then, we load tropical cyclones that hit the USA in 2017 from the CLIMADA Data API."
   ]
  },
  {
   "cell_type": "code",
   "execution_count": null,
   "id": "b2aa2763",
   "metadata": {},
   "outputs": [],
   "source": [
    "tc_usa = client.get_hazard('tropical_cyclone', properties={'country_iso3alpha':'USA', 'event_type': 'observed'})\n",
    "\n",
    "target_year = 2017\n",
    "events_in_target_year = np.array([\n",
    "    tc_usa.event_name[i] for i in range(len(tc_usa.event_name)) if\n",
    "    dt.datetime.fromordinal(tc_usa.date[i]).year == target_year\n",
    "    ])\n",
    "\n",
    "tc_usa_target_year = tc_usa.select(event_names = events_in_target_year)"
   ]
  },
  {
   "cell_type": "markdown",
   "id": "6ee697b8",
   "metadata": {},
   "source": [
    "Then we define vulnerability by loading impact functions for tropical cyclones in the USA:"
   ]
  },
  {
   "cell_type": "code",
   "execution_count": null,
   "id": "28fb55bb",
   "metadata": {},
   "outputs": [],
   "source": [
    "# Define impact function\n",
    "impf_tc = ImpfTropCyclone.from_emanuel_usa()\n",
    "impf_set = ImpactFuncSet()\n",
    "impf_set.append(impf_tc)\n",
    "impf_set.check()"
   ]
  },
  {
   "cell_type": "markdown",
   "id": "46574454",
   "metadata": {},
   "source": [
    "And we finally calculate impacts."
   ]
  },
  {
   "cell_type": "code",
   "execution_count": null,
   "id": "ced70cb1",
   "metadata": {},
   "outputs": [],
   "source": [
    "# Calculate direct impacts to the USA due to TC\n",
    "imp_calc = ImpactCalc(exp_usa, impf_set, tc_usa_target_year)\n",
    "direct_impact_usa = imp_calc.impact()"
   ]
  },
  {
   "cell_type": "markdown",
   "id": "ce706ebc",
   "metadata": {},
   "source": [
    "### 2. Calculate indirect economic impacts"
   ]
  },
  {
   "cell_type": "markdown",
   "id": "9c412521",
   "metadata": {},
   "source": [
    "#### 2.1 Instantiate a `SupplyChain` object by loading the Multi-Regional Input-Output Table of interest"
   ]
  },
  {
   "cell_type": "markdown",
   "id": "2cef2dbd",
   "metadata": {},
   "source": [
    "Currently a `SupplyChain` object allows us to compute indirect economic impacts with different Input-Output (IO) based modeling approaches. At the core of IO modeling lies an Input-Output Table. `SupplyChain` uses the [pymrio](https://pymrio.readthedocs.io/en/latest/) python package to download, parse and save Multi-Regional Input Output Tables (MRIOTs). In principle, any IO table can be loaded and used, as long as the structure is consistent with those internally supported by `SupplyChain`, which are:\n",
    "- [EXIOBASE3](https://zenodo.org/record/3583071#.Y_4zZuzMK3I) (1995-2011; 44 countries; 163 industries)\n",
    "- [WIOD16](https://www.rug.nl/ggdc/valuechain/wiod/) (2000-2014; 43 countries; 56 industries)\n",
    "- [OECD21](https://www.oecd.org/sti/ind/inter-country-input-output-tables.htm) (1995-2018; 66 countries; 45 industries)\n",
    "\n",
    "These MRIOTs can be downloaded, parsed and saved automatically."
   ]
  },
  {
   "cell_type": "markdown",
   "id": "4ca81b8f",
   "metadata": {},
   "source": [
    "The first step is to instantiate a `SupplyChain` class. This can be done by passing a customized MRIOT or by calling the `from_mriot` class method to use one of the supported MRIOTs."
   ]
  },
  {
   "cell_type": "code",
   "execution_count": null,
   "id": "6e3ba2e4",
   "metadata": {},
   "outputs": [],
   "source": [
    "supchain = SupplyChain.from_mriot(mriot_type='WIOD16', mriot_year=2011)"
   ]
  },
  {
   "cell_type": "markdown",
   "id": "4ff037d5",
   "metadata": {},
   "source": [
    "The instantiated class now has an `mriot` attribute, which is a pymrio `IOSystem` object. As such, one can access several infos of the MRIOT including regions, sectors, total production, transaction matrix and final demand. Please see [pymrio's documentation](https://pymrio.readthedocs.io/) on how to make best use of all the provided functions.\n",
    "\n",
    "For example, one can access regions, sectors and IOT data:"
   ]
  },
  {
   "cell_type": "code",
   "execution_count": null,
   "id": "cb4e50ff",
   "metadata": {},
   "outputs": [],
   "source": [
    "# regions\n",
    "supchain.mriot.get_regions()"
   ]
  },
  {
   "cell_type": "code",
   "execution_count": null,
   "id": "67b41671",
   "metadata": {},
   "outputs": [],
   "source": [
    "# sectors\n",
    "supchain.mriot.get_sectors()"
   ]
  },
  {
   "cell_type": "code",
   "execution_count": null,
   "id": "a20fea11",
   "metadata": {},
   "outputs": [],
   "source": [
    "# transaction matrix\n",
    "supchain.mriot.Z"
   ]
  },
  {
   "cell_type": "code",
   "execution_count": null,
   "id": "515765d7",
   "metadata": {},
   "outputs": [],
   "source": [
    "# final demand\n",
    "supchain.mriot.Y"
   ]
  },
  {
   "cell_type": "code",
   "execution_count": null,
   "id": "3cf0ed61",
   "metadata": {},
   "outputs": [],
   "source": [
    "# total production\n",
    "supchain.mriot.x"
   ]
  },
  {
   "cell_type": "markdown",
   "id": "188c6d5f",
   "metadata": {},
   "source": [
    "#### 2.2 Assign stock exposure and impact to MRIOT countries-sectors"
   ]
  },
  {
   "cell_type": "markdown",
   "id": "978dc613",
   "metadata": {},
   "source": [
    "After loading the MRIOT, you need to translate the direct impacts previously calculated&mdash;which are defined at an arbitrary spatial resolution&mdash;into impacts to sectors and countries defined by the MRIOT. To do this you need to map the geographic exposure and impact to a) the countries and b) the sectors of the MRIOT.\n",
    "\n",
    "Mapping to countries is straightforward, as exposure contains latitude and longitude information, and even a regional id that often defines the country of interest. This is done automatically for EXIOBASE3, WIOD16 and OECD21 MRIOTs, but currently requires you to do it for other or custom MRIOTs.\n",
    "\n",
    "Mapping to sectors is done by selecting the sectors assumed to be impacted. The default is to assume all sectors are impacted, although we highly recommend you to make an explicit choice here.\n",
    "\n",
    "In this example, assuming the `LitPop` exposure is representative of the service sector, and assuming that sub-sectors at positions 26 to 56 in `WIOD16` do represent this sector, we translate spatially disaggregated impacts into country/sector impacts as follows:"
   ]
  },
  {
   "cell_type": "code",
   "execution_count": null,
   "id": "180b1af1",
   "metadata": {},
   "outputs": [],
   "source": [
    "impacted_secs = supchain.mriot.get_sectors()[range(26,56)].tolist()\n",
    "supchain.calc_shock_to_sectors(exp_usa, direct_impact_usa, impacted_secs)"
   ]
  },
  {
   "cell_type": "markdown",
   "id": "c7f6ca6b",
   "metadata": {},
   "source": [
    "Which creates the attributes `secs_exp`, `secs_imp`, and `secs_shock`.\n",
    "\n",
    "The first two show `Exposure` and `Impact` values at the country-sector level. This translation is accomplished assuming that exposure/impact of an affected sector is proportional to this sector's contribution to the overall production of all affected sectors. For example, if the total (spatially distributed) exposed value is 100, and there are two affected sectors, `A` (whose production is 2) and `B` (whose production is 8), then sector `A` has an exposure of 20 and sector `B` has an exposure of 80. The same reasoning is applied to the distributions of direct impacts.\n",
    "\n",
    "Numbers in `secs_exp`, `secs_imp` are expressed **in the same unit** as the used MRIOT.\n",
    "\n",
    "The unit can be checked by doing:"
   ]
  },
  {
   "cell_type": "code",
   "execution_count": null,
   "id": "eb413b24",
   "metadata": {},
   "outputs": [],
   "source": [
    "supchain.mriot.unit"
   ]
  },
  {
   "cell_type": "markdown",
   "id": "e6445e05",
   "metadata": {},
   "source": [
    "The derived conversion factor for the used MRIOT unit is also accessible via:"
   ]
  },
  {
   "cell_type": "code",
   "execution_count": null,
   "id": "e5044693",
   "metadata": {},
   "outputs": [],
   "source": [
    "supchain.conversion_factor()"
   ]
  },
  {
   "cell_type": "markdown",
   "id": "7fd9daa5",
   "metadata": {},
   "source": [
    "Then one can easily check that `secs_exp`, `secs_imp` have the same total values¹ of `Exposure` and `Impact` and that this only involves the directly hit countries-sectors :"
   ]
  },
  {
   "cell_type": "code",
   "execution_count": null,
   "id": "e7bba71d",
   "metadata": {},
   "outputs": [],
   "source": [
    "# exposure\n",
    "print(\n",
    "      exp_usa.gdf.value.sum() / supchain.conversion_factor(),\n",
    "      \"==\",\n",
    "      supchain.secs_exp.sum().sum(),\n",
    "      \"==\",\n",
    "      supchain.secs_exp.loc[:, ('USA', impacted_secs)].sum().sum(),\n",
    "      )\n",
    "\n",
    "# impact\n",
    "print(\n",
    "      direct_impact_usa.imp_mat.sum().sum() / supchain.conversion_factor(),\n",
    "      \"==\",\n",
    "      supchain.secs_imp.sum().sum(),\n",
    "      \"==\",\n",
    "      supchain.secs_imp.loc[:, ('USA', impacted_secs)].sum().sum(),\n",
    "      )"
   ]
  },
  {
   "cell_type": "markdown",
   "id": "c4e4acba",
   "metadata": {},
   "source": [
    "¹) Note that we observe minor differences (below 1$ here) which are due to numerical errors."
   ]
  },
  {
   "cell_type": "markdown",
   "id": "bdcea0a8",
   "metadata": {},
   "source": [
    "The attribute `secs_shock` is the ratio between `secs_imp` and `secs_exp`. `secs_shock` is used in the indirect impact calculation to assess how the loss of assets is experienced by each sector (loss of production capacity, loss of final demand, etc.).\n",
    "\n",
    "In terms of structure, `secs_shock` is a dataframe with a (regions,sectors) MultiIndex as columns, and the ids of the hazard events that have *non-zero impacts* as index:"
   ]
  },
  {
   "cell_type": "code",
   "execution_count": null,
   "id": "49b18183",
   "metadata": {},
   "outputs": [],
   "source": [
    "supchain.secs_shock.loc[:, ('USA', impacted_secs)].head()"
   ]
  },
  {
   "cell_type": "markdown",
   "id": "9855fce8",
   "metadata": {},
   "source": [
    "By default, `shock_factor` is 1 and `secs_shock` is exactly the ratio between `Impact` and `Exposure`, which results in the same shock across sectors for a given event:"
   ]
  },
  {
   "cell_type": "code",
   "execution_count": null,
   "id": "d05a7eec",
   "metadata": {},
   "outputs": [],
   "source": [
    "# let's try the first three events\n",
    "for event_id in supchain.secs_shock.index[:3]:\n",
    "    imp_event = direct_impact_usa.at_event[direct_impact_usa.event_id == event_id][0]\n",
    "    print(imp_event / exp_usa.gdf.value.sum(), \"==\", supchain.secs_shock.loc[event_id, ('USA', impacted_secs)].values[0])"
   ]
  },
  {
   "cell_type": "markdown",
   "id": "46482523",
   "metadata": {},
   "source": [
    "This practically means that the fraction of *flow* losses (on production/demand depending on the subsequent approach used) is assumed to be equal to the fraction of *stock* losses, since `Impact` and `Exposure` typically refer to stocks in CLIMADA. However, since depending on the sector one can reasonably expect production losses to be proportionally higher or lower than stock losses, a `shock_factor` argument can also be passed to `calc_shock_to_sectors` to define&mdash;for each sector&mdash;how much flow shocks should be higher/lower than stocks shocks (i.e., the mere `Impact` / `Exposure` ratio).\n",
    "\n",
    "Here is an example on how to define a custom shock factor:"
   ]
  },
  {
   "cell_type": "code",
   "execution_count": null,
   "id": "58abcbac",
   "metadata": {},
   "outputs": [],
   "source": [
    "shock_factor = pd.DataFrame(np.repeat(1, supchain.mriot.x.shape[0]),\n",
    "                            index=supchain.mriot.x.index,\n",
    "                            columns=['shock'], dtype=\"float64\")\n",
    "\n",
    "# randomly generated for this tutorial\n",
    "shock_facs_service_USA = np.array([\n",
    "                                   0.38324804, 1.15930626, 0.73846477, 0.5430206 , 0.54147014,\n",
    "                                   0.28362671, 0.53829353, 1.95367016, 1.33675622, 0.42285787,\n",
    "                                   0.86974667, 1.4685637 , 1.24804793, 0.56915521, 0.43723048,\n",
    "                                   0.23372398, 0.69268485, 0.74130451, 0.74739106, 1.18719852,\n",
    "                                   1.02203697, 1.0412411 , 0.09315484, 1.23612412, 0.55947349,\n",
    "                                   0.8608431, 0.58983156, 1.13137055, 0.93014364, 0.39092134\n",
    "                                   ])\n",
    "\n",
    "shock_factor.loc[('USA', impacted_secs), :] = shock_facs_service_USA\n",
    "\n",
    "# supply shock factors when calculating sectorial shocks\n",
    "supchain.calc_shock_to_sectors(exp_usa, direct_impact_usa, impacted_secs, shock_factor.values.flatten())"
   ]
  },
  {
   "cell_type": "code",
   "execution_count": null,
   "id": "56fff388",
   "metadata": {},
   "outputs": [],
   "source": [
    "supchain.secs_shock.loc[:, ('USA', impacted_secs)].head()"
   ]
  },
  {
   "cell_type": "markdown",
   "id": "1a1af942",
   "metadata": {},
   "source": [
    "Even though the default values (all one) for the shock factors are correct only in the (uncommon) case in which CLIMADA's direct impacts already express production losses, a proper assignment of the shock factors requires extensive expert knowledge. Therefore, it is recommended to change these values only when detailed knowledge about the relationship between stock and flow losses is available."
   ]
  },
  {
   "cell_type": "markdown",
   "id": "686b33b0",
   "metadata": {},
   "source": [
    "#### 2.3 Calculate the propagation of production losses with Ghosh and Leontief approaches"
   ]
  },
  {
   "cell_type": "markdown",
   "id": "d415cba7",
   "metadata": {},
   "source": [
    "After sectorial shocks are defined, you can compute how these propagate through the supply chain. This can be done with the `calc_impacts` method by specifying the corresponding approach (`ghosh`, `leontief` or `boario`).\n",
    "\n",
    "\n",
    "In the following we focus on the `ghosh` and `leontief` approach. For the `boario` approach see the [BoARIO](#2.4-Calculate-the-propagation-of-production-losses-with-the-boario-approach) section.\n",
    "\n",
    "All approaches can be run on the same instantiation of `SupplyChain` and results are stored in a dictionary attribute `supchain_imp` with keys equal to the approach name."
   ]
  },
  {
   "cell_type": "code",
   "execution_count": null,
   "id": "5e28cc66",
   "metadata": {},
   "outputs": [],
   "source": [
    "supchain.calc_impacts(io_approach='ghosh')\n",
    "supchain.calc_impacts(io_approach='leontief')"
   ]
  },
  {
   "cell_type": "markdown",
   "id": "14e1d435",
   "metadata": {},
   "source": [
    "This fills the `supchain_imp` dictionary, where values are `pandas.DataFrame` with hazard events ids *leading to non-zero impact*  as index and the countries-sectors of the MRIOT as columns.\n",
    "\n",
    "Here again, numbers are expressed **in the same unit** as the used MRIOT and represent global production losses due to tropical cyclones in the USA."
   ]
  },
  {
   "cell_type": "code",
   "execution_count": null,
   "id": "0c734521",
   "metadata": {},
   "outputs": [],
   "source": [
    "supchain.supchain_imp['ghosh'].head()"
   ]
  },
  {
   "cell_type": "code",
   "execution_count": null,
   "id": "a2a84b32",
   "metadata": {},
   "outputs": [],
   "source": [
    "supchain.supchain_imp['leontief'].head()"
   ]
  },
  {
   "cell_type": "markdown",
   "id": "05c6f21b",
   "metadata": {},
   "source": [
    "As an example, the 10 largest impacted Swiss sectors from such events with the Ghosh approach are:"
   ]
  },
  {
   "cell_type": "code",
   "execution_count": null,
   "id": "40105741",
   "metadata": {},
   "outputs": [],
   "source": [
    "supchain.supchain_imp['ghosh'].loc[:,('CHE', slice(None))].max(0).sort_values(ascending=False)[:10]"
   ]
  },
  {
   "cell_type": "markdown",
   "id": "8cb1e988",
   "metadata": {},
   "source": [
    "And for Leontief:"
   ]
  },
  {
   "cell_type": "code",
   "execution_count": null,
   "id": "4adcc729",
   "metadata": {},
   "outputs": [],
   "source": [
    "supchain.supchain_imp['leontief'].loc[:,('CHE', slice(None))].max(0).sort_values(ascending=False)[:10]"
   ]
  },
  {
   "cell_type": "markdown",
   "id": "196359fe",
   "metadata": {},
   "source": [
    "#### 2.4 Calculate the propagation of production losses with the ARIO model"
   ]
  },
  {
   "cell_type": "markdown",
   "id": "5d72f7b3",
   "metadata": {},
   "source": [
    "The ARIO model offers a more \"advanced\" approach to compute indirect impacts. To understand more about the model we refer you to its seminal papers [Hallegatte 2008](https://doi.org/10.1111/j.1539-6924.2008.01046.x) and [Hallegatte 2013](https://doi.org/10.1111/risa.12090), as well as [the documentation](https://spjuhel.github.io/BoARIO/boario-what-is.html) of the `boario` package which is the implementation used in CLIMADA.\n",
    "\n",
    "The key difference with the previous approach is that ARIO is dynamic, thus instead of computing indirect impacts as a *static* loss, is computes losses *over time* following a direct impact.\n",
    "\n",
    "For a detailled presentation of the model please look at its [mathematical description](https://spjuhel.github.io/BoARIO/boario-math.html) in the official documentation.\n",
    "\n",
    "CLIMADA implements most of the functionnalities of the `boario` package. In the following, we describe what is currently available."
   ]
  },
  {
   "cell_type": "markdown",
   "id": "1ed89028",
   "metadata": {},
   "source": [
    "<div class=\"alert alert-info\">\n",
    "\n",
    "Before delving further, we raise your attention on several important points:\n",
    "\n",
    "The use of `boario`, although it offers more depth in results and in modelling possibilities, also requires you to configure it more than the previous approaches. For this a good understanding of the model is required.\n",
    "The purpose of this tutorial is to show what is available in CLIMADA, but it does not replace an extensive reading about the model, its assumptions and its limitations.\n",
    "\n",
    "Some options for `boario` are set by default either by CLIMADA or BoARIO, if you do not specify them. This ***does not mean*** that these default values are good in general as no generic case exists.\n",
    "You should get familiar with the parameters and reflect on what choice is fitting for your case.\n",
    "\n",
    "`boario` computations are much longer with respect to the previous approach. A progress bar is shown by default which indicates the estimated time a simulation requires. This time is highly dependent on:\n",
    "- The size of the MRIOT used (number of regions x number of sectors)\n",
    "- The number of events to simulate\n",
    "\n",
    "</div>"
   ]
  },
  {
   "cell_type": "markdown",
   "id": "0310b0e8",
   "metadata": {},
   "source": [
    "##### Type of event"
   ]
  },
  {
   "cell_type": "markdown",
   "id": "0a70a2bf",
   "metadata": {},
   "source": [
    "`boario` implements different kind of events, to account for a broad typology of impacts. Currently, two types of events are available within CLIMADA:\n",
    "- `recovery` events, where the direct impact is translated into a loss of production capacity which is recovered over time exogenously.\n",
    "- `rebuild` events, where the direct impact is translated into a loss of productive capital (assets) resulting in a loss of production capacity. In this case assets are also recovered over time, but through an endogenous reconstruction, which involves an additional final demand in the model.\n",
    "\n",
    "For more details, we again refer to the `boario` documentation on [How to define events](https://spjuhel.github.io/BoARIO/tutorials/boario-events.html)\n",
    "\n",
    "The type of event is choosen *via* the `boario_type` argument of `calc_impact()` which can be set to `\"recovery\"` or `\"rebuild\"`. Note that, at the moment, all events share the same type.\n",
    "\n",
    "Events require additional parameters which depend on their type. These parameters are passed to `boario` via the `boario_params` dictionnary, under the `\"event\"` key (see examples further below in this tutorial)."
   ]
  },
  {
   "cell_type": "markdown",
   "id": "2a848ce7",
   "metadata": {},
   "source": [
    "##### Simulation type"
   ]
  },
  {
   "cell_type": "markdown",
   "id": "323de923",
   "metadata": {},
   "source": [
    "*Note that this section is only relevant if you are looking at multiple events.*\n",
    "\n",
    "`boario` allows for multiple events (impacts) to be simulated within the same simulation. By default, the rows of the `secs_imp` attribute are translated into events for `boario` and all are added to the simulation. This is the `boario_aggregation=\"agg\"` case.\n",
    "\n",
    "You may also want to compute the impact of each event separately. To do this, you can set `boario_aggregation=\"sep\"` in `calc_impact`. This will run one distinct simulation **for each** row, and store each result in a list.\n",
    "\n",
    "\n",
    "**BE CAREFUL**\n",
    "\n",
    "As they were designed to compare sequences of events with individual events, each simulation runs for the same number of steps, but only one event is simulated at its relative occurence within the set of events. This means that if you have 500 different impacts, thus 500 different events, and the last one happens 9 years after the first one. The `\"sep\"` case will run 500 simulations of 3650 steps each (365 days x 9+1 years). Using a typical MRIOT such as EXIOBASE 3 this will take **years** to run (actual ones, not simulated ones)."
   ]
  },
  {
   "cell_type": "markdown",
   "id": "41a0a3df",
   "metadata": {},
   "source": [
    "##### Results"
   ]
  },
  {
   "cell_type": "markdown",
   "id": "09660bb7",
   "metadata": {},
   "source": [
    "CLIMADA takes advantage of the dynamic nature of `boario`. Thus, contrary to the previous approaches described, the result returned with this approach is the timeseries of the production of each industry, at each step of the simulation."
   ]
  },
  {
   "cell_type": "markdown",
   "id": "be7aa7b0",
   "metadata": {},
   "source": [
    "##### Setting parameters for `boario`\n",
    "\n",
    "The `boario_params` argument of `calc_impacts()` should be built as follows:\n",
    "\n",
    "```python\n",
    "boario_params={\n",
    "    \"sim\":{\n",
    "        \"argument1_for_Simulation_object\":<value>,\n",
    "        \"argument2_for_Simulation_object\":<value>,\n",
    "        ...\n",
    "    },\n",
    "    \"model\":{\n",
    "        \"argument1_for_ARIOModel_object\":<value>,\n",
    "        \"argument2_for_ARIOModel_object\":<value>,\n",
    "        ...\n",
    "    },\n",
    "    \"event\":{\n",
    "        \"argument1_for_Event_object\":<value>,\n",
    "        \"argument2_for_Event_object\":<value>,\n",
    "        ...\n",
    "    }\n",
    "}\n",
    "```\n",
    "\n",
    "Note that not all arguments shown in the `boario` documentation can be set, notably some are (and have to be) filled by the SupplyChain object:\n",
    "\n",
    "1. For simulation:\n",
    "    - `n_temporal_units_to_sim`\n",
    "    - `events_list`\n",
    "    - `separate_sims`\n",
    "\n",
    "2. For model:\n",
    "    - `monetary_factor`\n",
    "    - `productive_capital_vector`\n",
    "    - `productive_capital_to_VA_dict`\n",
    "\n",
    "4. For event:\n",
    "   - `occurence`\n",
    "   - `event_monetary_factor`"
   ]
  },
  {
   "cell_type": "markdown",
   "id": "f8b0e7c0",
   "metadata": {},
   "source": [
    "##### Practical example"
   ]
  },
  {
   "cell_type": "markdown",
   "id": "118bcba0",
   "metadata": {},
   "source": [
    "*Note that BoARIO can throw an error if impacts of some events are too low. In that case the solution is to exclude those events from the analysis - potentially already starting from the direct impact calculation.*\n",
    "\n",
    "In the following we compute the indirect impacts for the whole set of impacts (`boario_aggregate = 'agg'`), assuming no reconstruction demand `boario_type = 'recovery'`, and some custom parameters for the model)"
   ]
  },
  {
   "cell_type": "code",
   "execution_count": null,
   "id": "832d40f1",
   "metadata": {},
   "outputs": [],
   "source": [
    "supchain.calc_impacts(io_approach='boario',\n",
    "                      boario_type = 'recovery',\n",
    "                      boario_aggregate = 'agg',\n",
    "                      boario_params={\n",
    "                          \"sim\":{}, # We can leave that empty\n",
    "                          \"model\":{ # See boario doc for the meaning of these parameters\n",
    "                              \"order_type\":\"noalt\",\n",
    "                              \"alpha_max\":1.10,\n",
    "                          }, #\n",
    "                          \"event\":{\n",
    "                              \"duration\": 7, # This assumes the event spans over 7 steps (days) (recovery starts only after these)\n",
    "                              \"recovery_time\":90 # This assumes the recovery takes 90 steps\n",
    "                          },\n",
    "                      }\n",
    "                     )"
   ]
  },
  {
   "cell_type": "markdown",
   "id": "4c40a01c",
   "metadata": {},
   "source": [
    "Now the attribute `supchain.supchain_imp['boario_recovery_agg']` holds a DataFrame where the rows contain the production of the different (region,sector) at each step (day)."
   ]
  },
  {
   "cell_type": "code",
   "execution_count": null,
   "id": "60f09eb9",
   "metadata": {},
   "outputs": [],
   "source": [
    "supchain.supchain_imp['boario_recovery_agg']"
   ]
  },
  {
   "cell_type": "markdown",
   "id": "cb914a7e",
   "metadata": {},
   "source": [
    "Here is how you can plot the evolution of production for a specific region, for each sector, and each occurence of the impacts (the vertical dashed lines):"
   ]
  },
  {
   "cell_type": "code",
   "execution_count": null,
   "id": "e9ba1a15",
   "metadata": {
    "lines_to_next_cell": 2
   },
   "outputs": [],
   "source": [
    "import matplotlib.pyplot as plt\n",
    "\n",
    "fig, ax = plt.subplots(figsize=(20,5))\n",
    "\n",
    "region = 'USA'\n",
    "sector = \"Manufacture of food products, beverages and tobacco products\"\n",
    "\n",
    "for occ in [(supchain.events_date[i] - supchain.events_date[0] + 1) for i in range(len(supchain.supchain_imp))]:\n",
    "    plt.axvline(x=occ, color='b', linestyle=\"--\")\n",
    "\n",
    "relative_change = (supchain.supchain_imp['boario_recovery_agg'].loc[:, (region, sector)] -supchain.supchain_imp['boario_recovery_agg'].loc[0, (region, sector)]) / supchain.supchain_imp['boario_recovery_agg'].loc[0, (region, sector)]\n",
    "relative_change.plot(ax=ax, legend=False)\n",
    "\n",
    "# Adding y-axis label\n",
    "plt.ylabel(\"Relative Output Change (%)\")\n",
    "\n",
    "# Converting y-axis ticks to percentage\n",
    "ax.yaxis.set_major_formatter(plt.FuncFormatter(lambda x, _: '{:.2%}'.format(x)))\n",
    "\n",
    "# Adding a title\n",
    "plt.title(f\"Relative Output Change for {region} - {sector}\")\n",
    "\n",
    "plt.show()"
   ]
  },
  {
   "cell_type": "markdown",
   "id": "a1ce27ec",
   "metadata": {},
   "source": [
    "With the `boario_aggregate=\"sep\"` version, results are a list of dataframe, with each dataframe showing impact from a single event."
   ]
  },
  {
   "cell_type": "code",
   "execution_count": null,
   "id": "e2bcec85",
   "metadata": {},
   "outputs": [],
   "source": [
    "supchain.calc_impacts(io_approach='boario',\n",
    "                      boario_type = 'recovery',\n",
    "                      boario_aggregate = 'sep',\n",
    "                      boario_params={\n",
    "                          \"sim\":{}, # We can leave that empty\n",
    "                          \"model\":{ # See boario doc for the meaning of these parameters\n",
    "                              \"order_type\":\"noalt\",\n",
    "                              \"alpha_max\":1.10,\n",
    "                          }, #\n",
    "                          \"event\":{\n",
    "                              \"duration\": 7, # This assumes the event spans over 7 steps (days) (recovery starts only after these)\n",
    "                              \"recovery_time\":90 # This assumes the recovery takes 90 steps\n",
    "                          },\n",
    "                      }\n",
    "                     )"
   ]
  },
  {
   "cell_type": "code",
   "execution_count": null,
   "id": "53966150",
   "metadata": {
    "lines_to_next_cell": 2
   },
   "outputs": [],
   "source": [
    "fig, ax = plt.subplots(len(supchain.events_date), 1, figsize=(20,15))\n",
    "\n",
    "region = 'USA'\n",
    "sector = \"Manufacture of food products, beverages and tobacco products\"\n",
    "\n",
    "for i in range(len(supchain.events_date)):\n",
    "    relative_change = (supchain.supchain_imp['boario_recovery_sep'][i].loc[:, (region, sector)] -supchain.supchain_imp['boario_recovery_sep'][i].loc[0, (region, sector)]) / supchain.supchain_imp['boario_recovery_agg'].loc[0, (region, sector)]\n",
    "    relative_change.plot(ax=ax[i], legend=False)\n",
    "    ax[i].axvline(x = supchain.events_date[i]-supchain.events_date[0] + 1, color = 'b', linestyle=\"--\")\n",
    "    ax[i].yaxis.set_major_formatter(plt.FuncFormatter(lambda x, _: '{:.5%}'.format(x)))\n",
    "    ax[i].set_ylabel(\"Relative Output Change (%)\")\n",
    "\n",
    "# Adding y-axis label\n",
    "\n",
    "\n",
    "# Adding a title\n",
    "plt.suptitle(f\"Relative Output Change for {region} - {sector}\",y=0.90)\n",
    "\n",
    "plt.show()"
   ]
  },
  {
   "cell_type": "code",
   "execution_count": null,
   "id": "b8b5a39b",
   "metadata": {},
   "outputs": [],
   "source": []
  }
 ],
 "metadata": {
  "kernelspec": {
   "display_name": "climada_env",
   "language": "python",
   "name": "python3"
  }
 },
 "nbformat": 4,
 "nbformat_minor": 5
}